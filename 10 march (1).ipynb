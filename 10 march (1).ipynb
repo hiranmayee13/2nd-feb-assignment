{
 "cells": [
  {
   "cell_type": "code",
   "execution_count": null,
   "id": "33ac4eae-b170-48bc-85a1-58dab8817f36",
   "metadata": {},
   "outputs": [],
   "source": [
    "'''Q1: What is Estimation Statistics? Explain point estimate and interval estimate.'''\n",
    "\n",
    "Ans.\n",
    "    Estimation statistics is a branch of statistics that deals with estimating unknown population parameters based on \n",
    "    sample data. It allows us to make inferences about the population using information obtained from a subset of the \n",
    "    population, which is the sample.\n",
    "    \n",
    "    Point Estimate:\n",
    "    A point estimate is a single value that is used to estimate an unknown population parameter.\n",
    "    It provides a best guess or approximation of the parameter based on the sample data.\n",
    "    For example, if we want to estimate the population mean, a point estimate would be the sample mean,\n",
    "    denoted by x̄ (pronounced \"x-bar\"). Similarly, if we want to estimate the population proportion, a point estimate \n",
    "    would be the sample proportion, denoted by p-hat (p̂).\n",
    "    \n",
    "    Interval Estimate:\n",
    "    An interval estimate, also known as a confidence interval, is a range of values within which the population parameter\n",
    "    is estimated to lie. It provides information about the uncertainty associated with the point estimate. A confidence \n",
    "    level is used to specify the level of confidence we have that the interval estimate contains the true parameter value."
   ]
  },
  {
   "cell_type": "code",
   "execution_count": 3,
   "id": "fe5e1ee0-7bf3-464f-a916-751370462d7b",
   "metadata": {},
   "outputs": [
    {
     "name": "stdin",
     "output_type": "stream",
     "text": [
      "enter the value of sample mean 120\n",
      "enter the value of sample size 20\n",
      "enter the value of standard deviation 3.4\n",
      "enter the z value 2\n"
     ]
    },
    {
     "name": "stdout",
     "output_type": "stream",
     "text": [
      "121.52052622469985 118.47947377530015\n"
     ]
    }
   ],
   "source": [
    "\"\"\"Q2. Write a Python function to estimate the population mean using a sample mean and standard\n",
    "deviation.\"\"\"\n",
    "import math\n",
    "s_mean=float(input(\"enter the value of sample mean\"))\n",
    "s_size=int(input(\"enter the value of sample size\"))\n",
    "std=float(input(\"enter the value of standard deviation\"))\n",
    "z=float(input(\"enter the z value\"))\n",
    "p_mean1=s_mean+(z*(std/math.sqrt(s_size)))\n",
    "p_mean2=s_mean-(z*(std/math.sqrt(s_size)))\n",
    "print(p_mean1,p_mean2)"
   ]
  },
  {
   "cell_type": "code",
   "execution_count": null,
   "id": "8eaa313a-3eeb-4797-9300-5be46e9bb8e9",
   "metadata": {},
   "outputs": [],
   "source": [
    "'''Q3: What is Hypothesis testing? Why is it used? State the importance of Hypothesis testing.'''\n",
    "\n",
    "Ans.\n",
    "    Hypothesis testing is a statistical method used to make inferences and draw conclusions about a population based on\n",
    "    a sample of data. It involves formulating a hypothesis about a population parameter, collecting sample data, and\n",
    "    assessing the evidence against the hypothesis.\n",
    "    \n",
    "    Hypothesis testing is used in many fields, including science, engineering, business, and social sciences, to draw\n",
    "    conclusions about the population based on sample data. For example, a pharmaceutical company may use hypothesis\n",
    "    testing to determine whether a new drug is more effective than an existing drug. A marketing team may use hypothesis\n",
    "    testing to determine whether a new advertising campaign is more effective than the current one.\n",
    "    \n",
    "Importance of Hypothesis Testing:\n",
    "   1. Objective Decision Making:\n",
    "    Hypothesis testing provides a structured framework for making objective decisions based on data.\n",
    "    It helps in determining whether there is enough evidence to support or reject a specific claim or hypothesis.\n",
    "    \n",
    "   2.Inference about Population: \n",
    "    Hypothesis testing enables researchers to make inferences about population parameters based on sample data.\n",
    "    It helps generalize findings from a sample to the larger population, allowing for broader conclusions.\n",
    "    \n",
    "   3.Objectivity and Reliability:\n",
    "    Hypothesis testing provides a systematic and rigorous approach to analyze data and draw conclusions.\n",
    "    By following standardized procedures, it promotes objectivity, reliability, and replicability of research findings.\n",
    "    \n",
    "   4.Error Control:\n",
    "    Hypothesis testing allows researchers to control and quantify the risks of making Type I and Type II errors.\n",
    "    Type I error occurs when a true null hypothesis is incorrectly rejected, and Type II error occurs when a false\n",
    "    null hypothesis is incorrectly accepted. Hypothesis testing helps strike a balance between these error types."
   ]
  },
  {
   "cell_type": "code",
   "execution_count": null,
   "id": "f5c2ee66-505c-4c24-aeec-de2428921c33",
   "metadata": {},
   "outputs": [],
   "source": [
    "'''Q4. Create a hypothesis that states whether the average weight of male college students is greater than\n",
    "    the average weight of female college students.'''\n",
    "\n",
    "Ans.\n",
    "    Null Hypothesis (H0):\n",
    "        The average weight of male college students is equal to or less than the average weight of female college students.\n",
    "    Alternative Hypothesis (H1):\n",
    "        The average weight of male college students is greater than the average weight of female college students.\n",
    "        \n",
    "                H0: μ_male ≤ μ_female\n",
    "                H1: μ_male > μ_female\n",
    "    Here, μ_male represents the population mean weight of male college students,\n",
    "    and μ_female represents the population mean weight of female college students.   "
   ]
  },
  {
   "cell_type": "code",
   "execution_count": 4,
   "id": "1d9b98c3-cd09-40b0-b4eb-8f8e20ff8725",
   "metadata": {},
   "outputs": [
    {
     "name": "stdout",
     "output_type": "stream",
     "text": [
      "Sample-1 elements: [12 22 13 34 15]\n",
      "Sample-2 elements: [21 14 21 28 10]\n"
     ]
    },
    {
     "name": "stdin",
     "output_type": "stream",
     "text": [
      "Enter significance level value : 0.05\n"
     ]
    },
    {
     "name": "stdout",
     "output_type": "stream",
     "text": [
      "t-test value: 0.0777322074336469\n",
      "p-vlaue: 0.9400805451613377\n",
      "Accept (H0) --> Reject alternative hypothesis\n"
     ]
    }
   ],
   "source": [
    "'''Q5. Write a Python script to conduct a hypothesis test on the difference between two population means,\n",
    "        given a sample from each population.'''\n",
    "\n",
    "\n",
    "from scipy import stats\n",
    "'''\n",
    "s1=[]\n",
    "n1=int(input(\"Number of elements in sample -1 :\"))\n",
    "for i in range(0,n1):\n",
    "    l=int(input(f'Enter {i+1} value :'))\n",
    "    s1.append(l)\n",
    "\n",
    "s2=[]\n",
    "n2=int(input(\"Number of elements in ssample -2 :\"))\n",
    "for i in range(0,n2):\n",
    "    l1=int(input(f'Enter {i+1} value :'))\n",
    "    s1.append(l1)\n",
    "'''\n",
    "import numpy as np\n",
    "s1 = np.array([12, 22, 13, 34, 15])\n",
    "s2 = np.array([21,14, 21, 28, 10]) \n",
    "\n",
    "print('Sample-1 elements:',s1)    \n",
    "print('Sample-2 elements:',s2)\n",
    "\n",
    "sign = float(input('Enter significance level value :'))\n",
    "t_test, p_value = stats.ttest_ind(s1, s2, equal_var=False)\n",
    "\n",
    "print('t-test value:',t_test)\n",
    "print('p-vlaue:',p_value)\n",
    "\n",
    "if p_value < sign:\n",
    "    print('Reject (H0) --> significant difference between the population means')\n",
    "else:\n",
    "    print('Accept (H0) --> Reject alternative hypothesis')"
   ]
  },
  {
   "cell_type": "code",
   "execution_count": null,
   "id": "2926ae99-fc4a-4b60-9ad3-41c8c3ad38d7",
   "metadata": {},
   "outputs": [],
   "source": [
    "'''Q6: What is a null and alternative hypothesis? Give some examples.'''\n",
    "\n",
    "Ans.\n",
    "    In statistical hypothesis testing, the null hypothesis (H₀) and the alternative hypothesis (H₁ or Ha) are two\n",
    "    competing statements about a population parameter or parameters. These hypotheses are formulated based on the \n",
    "    research question or problem being investigated.\n",
    "    \n",
    "    Here are some examples of null and alternative hypotheses:\n",
    "1.Null Hypothesis:\n",
    "    The average age of customers who buy product A and product B is the same. \n",
    "Alternative Hypothesis: \n",
    "    The average age of customers who buy product A is different from the average age of customers who buy product B.\n",
    "  \n",
    "2.Null Hypothesis: The new drug has no effect on blood pressure. \n",
    "    Alternative Hypothesis: The new drug reduces blood pressure.\n",
    "    \n",
    "3.Null Hypothesis: There is no relationship between education level and job satisfaction.\n",
    "Alternative Hypothesis: Higher education levels are associated with higher job satisfaction."
   ]
  },
  {
   "cell_type": "code",
   "execution_count": null,
   "id": "152df878-0fda-45c2-a276-1cab6ba5dfb0",
   "metadata": {},
   "outputs": [],
   "source": [
    "'''Q7: Write down the steps involved in hypothesis testing.'''\n",
    "\n",
    "Ans.\n",
    "1.State the null hypothesis (H₀) and the alternative hypothesis (H₁ or Ha) based on the research question or problem\n",
    "    being investigated. These hypotheses should be mutually exclusive and collectively exhaustive.\n",
    "    \n",
    "2.Determine the significance level (alpha) for the test. The significance level represents the maximum probability of\n",
    "    rejecting the null hypothesis when it is actually true. Commonly used significance levels are 0.05 (5%) and 0.01 (1%).\n",
    "\n",
    "3.Select an appropriate statistical test based on the nature of the data and the research question. This could involve \n",
    "    tests such as t-tests, chi-square tests, ANOVA, or regression analysis, among others.\n",
    "    \n",
    "4.collect and prepare the data required for the test. This may involve gathering samples from the population, cleaning and\n",
    "organizing the data, and ensuring the data meets the assumptions of the chosen statistical test.\n",
    "\n",
    "5.Calculate the test statistic based on the chosen statistical test and the data. The test statistic measures the difference between the observed data and what would be expected under the null \n",
    "  hypothesis.\n",
    "    \n",
    "6. Calculate the p-value, which is the probability of obtaining a test statistic as extreme as, or more extreme than, \n",
    "  the observed test statistic under the null hypothesis. The p-value is used to quantify the strength of the evidence\n",
    "    against the null hypothesis.\n",
    "    \n",
    "7.Make a conclusion based on the p-value and the chosen significance level. If the p-value is less than the significance\n",
    "  level, we reject the null hypothesis. If the p-value is greater than or equal to the significance level, we fail to\n",
    "    reject the null hypothesis. "
   ]
  },
  {
   "cell_type": "code",
   "execution_count": null,
   "id": "3fb6a34f-32d1-4412-83c2-8fd328798319",
   "metadata": {},
   "outputs": [],
   "source": [
    "'''Q8. Define p-value and explain its significance in hypothesis testing.'''\n",
    "\n",
    "\n",
    "Ans.\n",
    "    In hypothesis testing, the p-value is the probability of obtaining a test statistic as extreme or more extreme than \n",
    "    the observed value, assuming the null hypothesis is true. The p-value is a measure of the strength of the evidence\n",
    "    against the null hypothesis.\n",
    "    If the p-value is less than or equal to the level of significance (alpha), it is considered statistically significant,\n",
    "    and the null hypothesis is rejected. This indicates that the observed result is unlikely to have occurred by chance \n",
    "    and supports the alternative hypothesis. If the p-value is greater than the level of significance, the null hypothesis\n",
    "    cannot be rejected, and the result is not considered statistically significant.\n",
    "    The p-value is significant because it provides a quantitative measure of the strength of the evidence against the null\n",
    "    hypothesis. A small p-value indicates strong evidence against the null hypothesis, whereas a large p-value indicates \n",
    "    weak evidence against the null hypothesis. The p-value also helps researchers make informed decisions about whether \n",
    "    to reject or fail to reject the null hypothesis and draw conclusions based on the statistical analysis."
   ]
  },
  {
   "cell_type": "code",
   "execution_count": 5,
   "id": "5a89ef63-4aa3-4feb-b928-2cb6e6960a4c",
   "metadata": {},
   "outputs": [
    {
     "data": {
      "image/png": "[encoded data removed]",
      "text/plain": [
       "<Figure size 640x480 with 1 Axes>"
      ]
     },
     "metadata": {},
     "output_type": "display_data"
    }
   ],
   "source": [
    "'''Q9. Generate a Student's t-distribution plot using Python's matplotlib library, with the degrees of freedom\n",
    "        parameter set to 10.'''\n",
    "\n",
    "import numpy as np\n",
    "import matplotlib.pyplot as plt\n",
    "from scipy.stats import t\n",
    "df = 10\n",
    "x = np.linspace(-10, 10, 10)\n",
    "y = t.pdf(x, df)\n",
    "plt.plot(x, y, label=f\"t-distribution (df={df})\",color = 'c')\n",
    "plt.title(\"Student's t-distribution\")\n",
    "plt.xlabel(\"x\")\n",
    "plt.ylabel(\"Probability density\")\n",
    "plt.legend()\n",
    "plt.grid(True)\n",
    "plt.show()"
   ]
  },
  {
   "cell_type": "code",
   "execution_count": 1,
   "id": "68ea16dd-5bb9-4a88-a8e0-09d8362be07e",
   "metadata": {},
   "outputs": [
    {
     "name": "stdout",
     "output_type": "stream",
     "text": [
      "t-statistic: -0.656392461740525\n",
      "p-value: 0.5198755133078401\n"
     ]
    }
   ],
   "source": [
    "'''Q10. Write a Python program to calculate the two-sample t-test for independent samples, given two\n",
    "        random samples of equal size and a null hypothesis that the population means are equal.'''\n",
    "import numpy as np\n",
    "from scipy import stats\n",
    "\n",
    "def two_sample_t_test(sample1, sample2):\n",
    "    # Calculate the means of the two samples\n",
    "    mean1 = np.mean(sample1)\n",
    "    mean2 = np.mean(sample2)\n",
    "    \n",
    "    # Calculate the variances of the two samples\n",
    "    var1 = np.var(sample1, ddof==1)\n",
    "    var2 = np.var(sample2, ddof=1)\n",
    "    \n",
    "    # Calculate the sizes of the two samples\n",
    "    n1 = len(sample1)\n",
    "    n2 = len(sample2)\n",
    "    \n",
    "    # Calculate the pooled standard deviation\n",
    "    pooled_std = np.sqrt((var1/n1) + (var2/n2))\n",
    "    \n",
    "    # Calculate the t-statistic\n",
    "    t = (mean1 - mean2) / pooled_std\n",
    "    \n",
    "    # Calculate the degrees of freedom\n",
    "    dof = n1 + n2 - 2\n",
    "    \n",
    "    # Calculate the p-value\n",
    "    p_value = 2 * (1 - stats.t.cdf(abs(t), df=dof))\n",
    "    \n",
    "    return t, p_value\n",
    "\n",
    "# Example usage\n",
    "sample1 = [3, 4, 5, 6, 2, 7, 8, 4, 6, 7]\n",
    "sample2 = [6, 7, 3, 2, 5, 6, 7, 8, 9, 5]\n",
    "\n",
    "t_statistic, p_value = two_sample_t_test(sample1, sample2)\n",
    "print(\"t-statistic:\", t_statistic)\n",
    "print(\"p-value:\", p_value)\n"
   ]
  },
  {
   "cell_type": "code",
   "execution_count": null,
   "id": "9ce8486a-671d-4f58-bc95-2db3a89355ad",
   "metadata": {},
   "outputs": [],
   "source": [
    "'''Q11: What is Student’s t distribution? When to use the t-Distribution.'''\n",
    "\n",
    "Ans.\n",
    "    Students t-distribution, also known as the t-distribution, is a probability distribution that is used to estimate the\n",
    "    mean of a normally distributed population when the sample size is small and/or the population standard deviation is \n",
    "    unknown. It was first introduced by William Sealy Gosset in 1908, who published under the pseudonym \"Student\".\n",
    "    \n",
    "1.The sample size is small (less than 30).\n",
    "\n",
    "2.The population standard deviation is unknown.\n",
    "\n",
    "3.The population is normally distributed or approximately normally distributed (the central limit theorem applies).\n",
    "\n",
    "4.We want to make inferences about the population mean, such as testing whether a sample mean is significantly different\n",
    "    from a hypothesized\n",
    "\n",
    "5.population mean or constructing a confidence interval for the population mean."
   ]
  },
  {
   "cell_type": "code",
   "execution_count": null,
   "id": "b166e890-ad6b-4388-8ae8-42dfed6f3039",
   "metadata": {},
   "outputs": [],
   "source": [
    "'''Q12: What is t-statistic? State the formula for t-statistic.'''\n",
    "\n",
    "Ans.\n",
    "    The t-statistic is a test statistic that is used in hypothesis testing and confidence interval estimation when the\n",
    "    population standard deviation is unknown and the sample size is small. It is a standardized measure of the difference\n",
    "    between the sample mean and the hypothesized population mean, in units of the sample standard deviation.\n",
    "    \n",
    "    where:t = (mean1 - mean2) / sqrt((s1^2 / n1) + (s2^2 / n2))\n",
    "\n",
    "    mean1 and mean2 are the sample means of the two independent samples.\n",
    "    s1 and s2 are the sample standard deviations of the two independent samples.\n",
    "    n1 and n2 are the sample sizes of the two independent samples."
   ]
  },
  {
   "cell_type": "code",
   "execution_count": 3,
   "id": "0fd420a8-7e60-431e-a0e8-0538e2b7df4d",
   "metadata": {},
   "outputs": [
    {
     "name": "stdout",
     "output_type": "stream",
     "text": [
      "95% Confidence Interval: ($486.14, $513.86)\n"
     ]
    }
   ],
   "source": [
    "'''Q13. A coffee shop owner wants to estimate the average daily revenue for their shop. They take a random\n",
    "        sample of 50 days and find the sample mean revenue to be $500 with a standard deviation of $50.\n",
    "        Estimate the population mean revenue with a 95% confidence interval.'''\n",
    "\n",
    "\n",
    "import numpy as np\n",
    "from scipy import stats\n",
    "\n",
    "sample_mean = 500\n",
    "sample_std = 50\n",
    "sample_size = 50\n",
    "confidence_level = 0.95\n",
    "\n",
    "# Calculate the critical value (z-value) for the desired confidence level\n",
    "z_critical = stats.norm.ppf(1 - (1 - confidence_level) / 2)\n",
    "\n",
    "# Calculate the margin of error\n",
    "margin_of_error = z_critical * (sample_std / np.sqrt(sample_size))\n",
    "\n",
    "lower_bound = sample_mean - margin_of_error\n",
    "upper_bound = sample_mean + margin_of_error\n",
    "\n",
    "print(f\"95% Confidence Interval: (${lower_bound:.2f}, ${upper_bound:.2f})\")"
   ]
  },
  {
   "cell_type": "code",
   "execution_count": 2,
   "id": "638dcdd6-627a-45e4-a6c2-1551253f55d9",
   "metadata": {},
   "outputs": [
    {
     "name": "stdout",
     "output_type": "stream",
     "text": [
      "Test statistic: -6.666666666666667\n",
      "p-value: 1.5012289189542116e-09\n",
      "Reject the null hypothesis. There is a significant difference in the decrease in blood pressure.\n"
     ]
    }
   ],
   "source": [
    "'''Q14. A researcher hypothesizes that a new drug will decrease blood pressure by 10 mmHg. They conduct a\n",
    "        clinical trial with 100 patients and find that the sample mean decrease in blood pressure is 8 mmHg with a\n",
    "        standard deviation of 3 mmHg. Test the hypothesis with a significance level of 0.05.'''\n",
    "\n",
    "\n",
    "import numpy as np\n",
    "from scipy import stats\n",
    "\n",
    "sample_mean = 8\n",
    "null_mean = 10\n",
    "sample_std = 3\n",
    "sample_size = 100\n",
    "alpha = 0.05\n",
    "\n",
    "df = sample_size - 1\n",
    "\n",
    "t_stat = (sample_mean - null_mean) / (sample_std / np.sqrt(sample_size))\n",
    "\n",
    "p_value = 2 * (1 - stats.t.cdf(np.abs(t_stat), df))\n",
    "\n",
    "print(\"Test statistic:\", t_stat)\n",
    "print(\"p-value:\", p_value)\n",
    "\n",
    "if p_value < alpha:\n",
    "    print(\"Reject the null hypothesis. There is a significant difference in the decrease in blood pressure.\")\n",
    "else:\n",
    "    print(\"accept the null hypothesis.\")\n"
   ]
  },
  {
   "cell_type": "code",
   "execution_count": 4,
   "id": "79cf0df1-2256-4a4f-b2e3-0ed0ce022f0b",
   "metadata": {},
   "outputs": [
    {
     "name": "stdout",
     "output_type": "stream",
     "text": [
      "Test statistic: -2.0000000000000018\n",
      "p-value: 0.02846992496829572\n",
      "Accept the null hypothesis.\n"
     ]
    }
   ],
   "source": [
    "'''Q15. An electronics company produces a certain type of product with a mean weight of 5 pounds and a\n",
    "        standard deviation of 0.5 pounds. A random sample of 25 products is taken, and the sample mean weight\n",
    "        is found to be 4.8 pounds. Test the hypothesis that the true mean weight of the products is less than 5\n",
    "        pounds with a significance level of 0.01.'''\n",
    "\n",
    "import numpy as np\n",
    "from scipy import stats\n",
    "\n",
    "sample_mean = 4.8\n",
    "null_mean = 5\n",
    "sample_std = 0.5\n",
    "sample_size = 25\n",
    "alpha = 0.01\n",
    "\n",
    "df = sample_size - 1\n",
    "\n",
    "t_stat = (sample_mean - null_mean) / (sample_std / np.sqrt(sample_size))\n",
    "\n",
    "p_value = stats.t.cdf(t_stat, df)\n",
    "\n",
    "print(\"Test statistic:\", t_stat)\n",
    "print(\"p-value:\", p_value)\n",
    "\n",
    "if p_value < alpha:\n",
    "    print(\"Reject the null hypothesis. There is a significant evidence that the mean weight is less than 5 pounds.\")\n",
    "else:\n",
    "    print(\"Accept the null hypothesis.\")"
   ]
  },
  {
   "cell_type": "code",
   "execution_count": 5,
   "id": "bcff51a7-dc9d-43cd-9f42-d2e21053a6b7",
   "metadata": {},
   "outputs": [
    {
     "name": "stdout",
     "output_type": "stream",
     "text": [
      "Test statistic: 2.3239677296992913\n",
      "p-value: 0.023123013413725912\n",
      "Accept the null hypothesis.\n"
     ]
    }
   ],
   "source": [
    "'''Q16. Two groups of students are given different study materials to prepare for a test. The first group (n1 =\n",
    "30) has a mean score of 80 with a standard deviation of 10, and the second group (n2 = 40) has a mean\n",
    "score of 75 with a standard deviation of 8. Test the hypothesis that the population means for the two\n",
    "groups are equal with a significance level of 0.01.'''\n",
    "\n",
    "import numpy as np\n",
    "from scipy import stats\n",
    "\n",
    "mean1 = 80\n",
    "std1 = 10\n",
    "n1 = 30\n",
    "\n",
    "mean2 = 75\n",
    "std2 = 8\n",
    "n2 = 40\n",
    "\n",
    "alpha = 0.01\n",
    "df = n1 + n2 - 2\n",
    "\n",
    "pooled_std = np.sqrt(((n1 - 1) * std1 ** 2 + (n2 - 1) * std2 ** 2) / df)\n",
    "\n",
    "t_stat = (mean1 - mean2) / (pooled_std * np.sqrt(1/n1 + 1/n2))\n",
    "p_value = 2 * (1 - stats.t.cdf(np.abs(t_stat), df))\n",
    "\n",
    "print(\"Test statistic:\", t_stat)\n",
    "print(\"p-value:\", p_value)\n",
    "if p_value < alpha:\n",
    "    print(\"Reject the null hypothesis. There is a significant difference between the population means.\")\n",
    "else:\n",
    "    print(\"Accept the null hypothesis.\")"
   ]
  },
  {
   "cell_type": "code",
   "execution_count": 6,
   "id": "119af594-77c2-4b8e-b047-154d6c51bda2",
   "metadata": {},
   "outputs": [
    {
     "name": "stdout",
     "output_type": "stream",
     "text": [
      "99% Confidence Interval: (3.45, 4.55)\n"
     ]
    }
   ],
   "source": [
    "'''Q17. A marketing company wants to estimate the average number of ads watched by viewers during a TV\n",
    "        program. They take a random sample of 50 viewers and find that the sample mean is 4 with a standard\n",
    "        deviation of 1.5. Estimate the population mean with a 99% confidence interval.'''\n",
    "\n",
    "\n",
    "import numpy as np\n",
    "from scipy import stats\n",
    "\n",
    "sample_mean = 4\n",
    "sample_std = 1.5\n",
    "sample_size = 50\n",
    "confidence_level = 0.99\n",
    "\n",
    "z_critical = stats.norm.ppf(1 - (1 - confidence_level) / 2)\n",
    "margin_of_error = z_critical * (sample_std / np.sqrt(sample_size))\n",
    "\n",
    "lower_bound = sample_mean - margin_of_error\n",
    "upper_bound = sample_mean + margin_of_error\n",
    "print(f\"99% Confidence Interval: ({lower_bound:.2f}, {upper_bound:.2f})\")"
   ]
  },
  {
   "cell_type": "code",
   "execution_count": null,
   "id": "5c823638-cf8c-41ca-965b-22c6726fb622",
   "metadata": {},
   "outputs": [],
   "source": []
  }
 ],
 "metadata": {
  "kernelspec": {
   "display_name": "Python 3 (ipykernel)",
   "language": "python",
   "name": "python3"
  },
  "language_info": {
   "codemirror_mode": {
    "name": "ipython",
    "version": 3
   },
   "file_extension": ".py",
   "mimetype": "text/x-python",
   "name": "python",
   "nbconvert_exporter": "python",
   "pygments_lexer": "ipython3",
   "version": "3.10.8"
  }
 },
 "nbformat": 4,
 "nbformat_minor": 5
}
