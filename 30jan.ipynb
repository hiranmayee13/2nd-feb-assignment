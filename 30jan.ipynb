{
 "cells": [
  {
   "cell_type": "code",
   "execution_count": 1,
   "id": "1e4dc2a1-31b0-462d-931c-eb6e3e5e10a0",
   "metadata": {},
   "outputs": [
    {
     "name": "stdin",
     "output_type": "stream",
     "text": [
      "Enter your Marks :  99\n"
     ]
    },
    {
     "name": "stdout",
     "output_type": "stream",
     "text": [
      "A Grade\n"
     ]
    }
   ],
   "source": [
    "\"\"\"1. Write a program to accept percentage from the user and display the grade according to the following .\n",
    "\n",
    "       ________________________________________________\n",
    "       | Marks___________________________________Grade |\n",
    "       |                                               |\n",
    "       | >90______________________________________A____|\n",
    "       |                                               |\n",
    "       | >80 and <=90 ____________________________B____|\n",
    "       |                                               |\n",
    "       | >60 and <=80_____________________________c____|\n",
    "       |                                               |\n",
    "       | below 60_________________________________D____|\n",
    "       |_______________________________________________|\n",
    "\"\"\"\n",
    "\n",
    "marks=int(input(\"Enter your Marks : \"))\n",
    "if marks>90:\n",
    "    print(\"A Grade\")\n",
    "elif marks>80 and marks<=90:\n",
    "    print(\"B Grade\")\n",
    "elif marks>60 and marks<=80:\n",
    "    print(\"C Grade\")\n",
    "else:\n",
    "    print(\"D Garde\")"
   ]
  },
  {
   "cell_type": "code",
   "execution_count": 8,
   "id": "8edd7e57-0720-4ab9-b462-87d55b35c2de",
   "metadata": {},
   "outputs": [
    {
     "name": "stdin",
     "output_type": "stream",
     "text": [
      "Enter your cost : 11000\n"
     ]
    },
    {
     "name": "stdout",
     "output_type": "stream",
     "text": [
      "total_price = 11550.0\n"
     ]
    }
   ],
   "source": [
    "\"\"\"2. Write a program to accept the cost price of a bike and display the road tax to be paid according to the \n",
    "following criteria\n",
    "        ________________________________________________\n",
    "       | Tax________________|_______ Cost Price(in Rs) |\n",
    "       |                    |                          |\n",
    "       | 15%________________|____________>100000_______|\n",
    "       |                    |                          |\n",
    "       | 10%________________|__>50000 and <= 100000____|\n",
    "       |                    |                          |\n",
    "       | 5%_________________|___________<= 50000_______|\n",
    "\"\"\"\n",
    "\n",
    "price=int(input(\"Enter your cost :\"))\n",
    "total_price=0\n",
    "if price>100000:\n",
    "    total_price=((price*15)/100) + price\n",
    "elif price > 50000 and price <=100000:\n",
    "    total_price=((price*10)/100) + price\n",
    "else:\n",
    "    total_price=((price*5)/100) + price\n",
    "print(\"total_price =\",total_price)"
   ]
  },
  {
   "cell_type": "code",
   "execution_count": 9,
   "id": "a4331f1b-cda9-49df-a614-905db2451cb5",
   "metadata": {},
   "outputs": [
    {
     "name": "stdin",
     "output_type": "stream",
     "text": [
      "Enter your City name : delhi\n"
     ]
    },
    {
     "name": "stdout",
     "output_type": "stream",
     "text": [
      "Mountain is :Red fort\n"
     ]
    }
   ],
   "source": [
    "\"\"\"3. Accept any city from the user and display monuments of that city. \n",
    "        ________________________________________________\n",
    "       |___city_____________|_______Mountain___________|\n",
    "       |                    |                          |\n",
    "       |___Delhi____________|________Red fort__________|\n",
    "       |                    |                          |\n",
    "       |___Agra_____________|________taj nahal_________|\n",
    "       |                    |                          |\n",
    "       |___Jaipur___________|________jai mahal_________|\n",
    "\n",
    "\"\"\"\n",
    "city=str(input(\"Enter your City name :\"))\n",
    "if city.upper()==\"DELHI\":\n",
    "    print(\"Mountain is :Red fort\")\n",
    "elif city.upper()==\"AGRA\":\n",
    "    print(\"Mountain is :Taj mahal\")\n",
    "elif city.upper==\"JAIPUR\":\n",
    "    print(\"Mountain is :Jai mahal\")\n",
    "else:\n",
    "    print(\"Invalid input\")"
   ]
  },
  {
   "cell_type": "code",
   "execution_count": 10,
   "id": "a01d212d-479d-438f-b66c-01864039e41c",
   "metadata": {},
   "outputs": [
    {
     "name": "stdout",
     "output_type": "stream",
     "text": [
      "3\n"
     ]
    }
   ],
   "source": [
    "\"\"\"4. Check how many times a given number can be divided by 3 before it is less than or equal to 10.\"\"\"\n",
    "\n",
    "n=range(1,11)\n",
    "count=0\n",
    "for i in n:\n",
    "    if(i%3==0):\n",
    "        count=count+1\n",
    "    else:\n",
    "        continue\n",
    "print(count)"
   ]
  },
  {
   "cell_type": "code",
   "execution_count": 11,
   "id": "a311ec08-b60f-457b-aac2-0c7bf15b031b",
   "metadata": {},
   "outputs": [
    {
     "name": "stdin",
     "output_type": "stream",
     "text": [
      "enter a number:  12\n"
     ]
    },
    {
     "name": "stdout",
     "output_type": "stream",
     "text": [
      "The sum is:  78\n"
     ]
    }
   ],
   "source": [
    "\"\"\"5. Why and When to Use while Loop in Python give a detailed description with example.\"\"\"\n",
    "\n",
    "# Python While Loop is used to execute a block of statements repeatedly until a given condition is satisfied.\n",
    "# And when the condition becomes false, the line immediately after the loop in the program is executed.\n",
    "# Evaluate a test condition and iterate over the loop body until the condition returns True.\n",
    "\n",
    "# program to calculate the sum of numbers\n",
    "# until the user enters zero\n",
    "\n",
    "# example : Sum of N natural numbers .\n",
    "n = int(input(\"enter a number: \"))\n",
    "i = 1\n",
    "sum = 0\n",
    "while (i <= n):\n",
    "    sum = sum + i\n",
    "    i = i + 1\n",
    "print(\"The sum is: \", sum)"
   ]
  },
  {
   "cell_type": "code",
   "execution_count": 12,
   "id": "4c6d9a0d-6648-4de6-87b6-41bc01cb54cd",
   "metadata": {},
   "outputs": [
    {
     "name": "stdout",
     "output_type": "stream",
     "text": [
      "Pattern-1\n"
     ]
    },
    {
     "name": "stdin",
     "output_type": "stream",
     "text": [
      "Enter number of rows :  4\n"
     ]
    },
    {
     "name": "stdout",
     "output_type": "stream",
     "text": [
      "* \n",
      "* * \n",
      "* * * \n",
      "* * * * \n"
     ]
    }
   ],
   "source": [
    "\"\"\"\"6. Use nested while loop to print 3 different pattern. \"\"\"\n",
    "\n",
    "print(\"Pattern-1\")\n",
    "n = int(input('Enter number of rows : '))\n",
    "\n",
    "i = 1\n",
    "while i <= n :\n",
    "    j = 1\n",
    "    while j <= i:\n",
    "        print(\"*\", end = \" \")\n",
    "        j += 1\n",
    "    print()\n",
    "    i += 1"
   ]
  },
  {
   "cell_type": "code",
   "execution_count": 13,
   "id": "30f6bc43-f9cb-47e3-9479-21d484c0a0b5",
   "metadata": {},
   "outputs": [
    {
     "name": "stdout",
     "output_type": "stream",
     "text": [
      "Pattern-2\n"
     ]
    },
    {
     "name": "stdin",
     "output_type": "stream",
     "text": [
      "Enter number of rows :  4\n"
     ]
    },
    {
     "name": "stdout",
     "output_type": "stream",
     "text": [
      "* * * * \n",
      "* * * \n",
      "* * \n",
      "* \n"
     ]
    }
   ],
   "source": [
    "print(\"Pattern-2\")\n",
    "n = int(input('Enter number of rows : '))\n",
    "\n",
    "i = 1\n",
    "while i <= n :\n",
    "    j = n\n",
    "    while j >= i:\n",
    "        print(\"*\", end = \" \")\n",
    "        j -= 1\n",
    "    print()\n",
    "    i += 1"
   ]
  },
  {
   "cell_type": "code",
   "execution_count": 14,
   "id": "dab82008-bc55-452d-8b0e-197ba2f907fd",
   "metadata": {},
   "outputs": [
    {
     "name": "stdout",
     "output_type": "stream",
     "text": [
      "pattern-3\n"
     ]
    },
    {
     "name": "stdin",
     "output_type": "stream",
     "text": [
      "Enter no. of rows: 4\n"
     ]
    },
    {
     "name": "stdout",
     "output_type": "stream",
     "text": [
      "    \n",
      "   *\n",
      "  **\n",
      " ***\n",
      "****\n"
     ]
    }
   ],
   "source": [
    "print(\"pattern-3\")\n",
    "n=int(input(\"Enter no. of rows:\"))\n",
    "i=0\n",
    "while (i<=n):\n",
    "    print(\" \" * (n-i) + \"*\" * i)\n",
    "    i=i+1"
   ]
  },
  {
   "cell_type": "code",
   "execution_count": 15,
   "id": "0fc266ba-c445-40ca-b981-57be7486a870",
   "metadata": {},
   "outputs": [
    {
     "name": "stdout",
     "output_type": "stream",
     "text": [
      "10\n",
      "9\n",
      "8\n",
      "7\n",
      "6\n",
      "5\n",
      "4\n",
      "3\n",
      "2\n",
      "1\n"
     ]
    }
   ],
   "source": [
    "\"\"\"7. Reverse a while loop to display numbers from 10 to 1. \"\"\"\n",
    "\n",
    "num=10\n",
    "while num>0:\n",
    "    print(num)\n",
    "    num=num-1"
   ]
  },
  {
   "cell_type": "code",
   "execution_count": 16,
   "id": "36043175-d6ec-45e2-9a9f-e666023bc971",
   "metadata": {},
   "outputs": [
    {
     "name": "stdout",
     "output_type": "stream",
     "text": [
      "10\n",
      "9\n",
      "8\n",
      "7\n",
      "6\n",
      "5\n",
      "4\n",
      "3\n",
      "2\n",
      "1\n"
     ]
    }
   ],
   "source": [
    "\"\"\"8. Reverse a while loop to display numbers from 10 to 1. \"\"\"\n",
    "\n",
    "num=10\n",
    "while num>0:\n",
    "    print(num)\n",
    "    num=num-1"
   ]
  },
  {
   "cell_type": "code",
   "execution_count": null,
   "id": "92194150-91b6-4fc7-b215-5f86e4886aea",
   "metadata": {},
   "outputs": [],
   "source": []
  }
 ],
 "metadata": {
  "kernelspec": {
   "display_name": "Python 3 (ipykernel)",
   "language": "python",
   "name": "python3"
  },
  "language_info": {
   "codemirror_mode": {
    "name": "ipython",
    "version": 3
   },
   "file_extension": ".py",
   "mimetype": "text/x-python",
   "name": "python",
   "nbconvert_exporter": "python",
   "pygments_lexer": "ipython3",
   "version": "3.10.8"
  }
 },
 "nbformat": 4,
 "nbformat_minor": 5
}
