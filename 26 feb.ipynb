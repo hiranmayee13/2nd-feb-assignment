{
 "cells": [
  {
   "cell_type": "code",
   "execution_count": 3,
   "id": "5ef69bf7-af95-4ce0-93a0-87933ef8f76a",
   "metadata": {},
   "outputs": [],
   "source": [
    "import numpy as np\n",
    "list_ = ['1','2','3','4','5']\n",
    "array_list = np.array(object = list_)"
   ]
  },
  {
   "cell_type": "code",
   "execution_count": 4,
   "id": "a461e49d-9600-40ff-a323-bbd3b6e34dfb",
   "metadata": {},
   "outputs": [
    {
     "name": "stdout",
     "output_type": "stream",
     "text": [
      "Data type of 'list_': <class 'list'>\n",
      "Data type of 'array_list': <class 'numpy.ndarray'>\n"
     ]
    }
   ],
   "source": [
    "\"\"\"Q1. Is there any difference in the data type of variables list_ and array_list? If there is then write a code\n",
    "to print the data types of both the variables.\"\"\"\n",
    "#Ans\n",
    "print(\"Data type of 'list_':\", type(list_))\n",
    "print(\"Data type of 'array_list':\", type(array_list))"
   ]
  },
  {
   "cell_type": "code",
   "execution_count": null,
   "id": "39c1bfe4-9acc-4981-8ff4-83ac0886f942",
   "metadata": {},
   "outputs": [],
   "source": [
    "The list_ variable is a Python list of strings, whereas array_list is a NumPy array of strings. \n",
    "Although they both contain the same string values, they have different data types because they are\n",
    "different types of objects."
   ]
  },
  {
   "cell_type": "code",
   "execution_count": 6,
   "id": "91a7419b-3e94-4081-a9d1-4d5159357f15",
   "metadata": {},
   "outputs": [
    {
     "name": "stdout",
     "output_type": "stream",
     "text": [
      "data type <class 'str'>\n",
      "data type <class 'str'>\n",
      "data type <class 'str'>\n",
      "data type <class 'str'>\n",
      "data type <class 'str'>\n"
     ]
    }
   ],
   "source": [
    "\"\"\"Q2. Write a code to print the data type of each and every element of both the variables list_ and\n",
    "arra_list.\"\"\"\n",
    "for i in list_:\n",
    "    print(\"data type\",type(i))"
   ]
  },
  {
   "cell_type": "code",
   "execution_count": 9,
   "id": "e58d2001-e5d0-4358-b489-39180a0790b4",
   "metadata": {},
   "outputs": [
    {
     "name": "stdout",
     "output_type": "stream",
     "text": [
      "data type <class 'numpy.str_'>\n",
      "data type <class 'numpy.str_'>\n",
      "data type <class 'numpy.str_'>\n",
      "data type <class 'numpy.str_'>\n",
      "data type <class 'numpy.str_'>\n"
     ]
    }
   ],
   "source": [
    "for i in array_list:\n",
    "    print(\"data type\",type(i))"
   ]
  },
  {
   "cell_type": "code",
   "execution_count": 10,
   "id": "1a0e7697-f3c9-43cf-8199-c4d520dbaff8",
   "metadata": {},
   "outputs": [],
   "source": [
    "array_list = np.array(object = list_, dtype = int)"
   ]
  },
  {
   "cell_type": "code",
   "execution_count": 11,
   "id": "913f8a03-1d4a-469a-9fb3-f6077bca4721",
   "metadata": {},
   "outputs": [
    {
     "name": "stdout",
     "output_type": "stream",
     "text": [
      "data type <class 'numpy.int64'>\n",
      "data type <class 'numpy.int64'>\n",
      "data type <class 'numpy.int64'>\n",
      "data type <class 'numpy.int64'>\n",
      "data type <class 'numpy.int64'>\n"
     ]
    }
   ],
   "source": [
    "\"\"\"Will there be any difference in the data type of the elements present in both the variables, list_ and\n",
    "arra_list? If so then print the data types of each and every element present in both the variables, list_\n",
    "and arra_list.\"\"\"\n",
    "for i in array_list:\n",
    "    print(\"data type\",type(i))"
   ]
  },
  {
   "cell_type": "code",
   "execution_count": 12,
   "id": "13eb79ca-2032-468a-84d5-66acb73592b8",
   "metadata": {},
   "outputs": [
    {
     "name": "stdout",
     "output_type": "stream",
     "text": [
      "data type <class 'str'>\n",
      "data type <class 'str'>\n",
      "data type <class 'str'>\n",
      "data type <class 'str'>\n",
      "data type <class 'str'>\n"
     ]
    }
   ],
   "source": [
    "for i in list_:\n",
    "    print(\"data type\",type(i))"
   ]
  },
  {
   "cell_type": "code",
   "execution_count": 13,
   "id": "43dcebbd-e202-481e-86a6-84a5437f6d55",
   "metadata": {},
   "outputs": [],
   "source": [
    "import numpy as np\n",
    "num_list = [ [ 1 , 2 , 3 ] , [ 4 , 5 , 6 ] ]\n",
    "num_array = np.array(object = num_list)"
   ]
  },
  {
   "cell_type": "code",
   "execution_count": null,
   "id": "77aa7d45-e0f3-49fe-8710-70a8b8e47ea7",
   "metadata": {},
   "outputs": [],
   "source": [
    "Q4. Write a code to find the following characteristics of variable, num_array:\n",
    "(i) shape\n",
    "(ii) size"
   ]
  },
  {
   "cell_type": "code",
   "execution_count": 14,
   "id": "9bcc780e-63ce-435b-b50e-abb054ff9339",
   "metadata": {},
   "outputs": [
    {
     "data": {
      "text/plain": [
       "(2, 3)"
      ]
     },
     "execution_count": 14,
     "metadata": {},
     "output_type": "execute_result"
    }
   ],
   "source": [
    "np.shape(num_array)"
   ]
  },
  {
   "cell_type": "code",
   "execution_count": 15,
   "id": "9388f149-8c72-418f-80f6-04d10fc0e169",
   "metadata": {},
   "outputs": [
    {
     "data": {
      "text/plain": [
       "6"
      ]
     },
     "execution_count": 15,
     "metadata": {},
     "output_type": "execute_result"
    }
   ],
   "source": [
    "np.size(num_array)"
   ]
  },
  {
   "cell_type": "code",
   "execution_count": 22,
   "id": "fc2fc803-8bac-4ae4-acd2-2a827093c1d8",
   "metadata": {},
   "outputs": [
    {
     "data": {
      "text/plain": [
       "array([[0., 0., 0.],\n",
       "       [0., 0., 0.],\n",
       "       [0., 0., 0.]])"
      ]
     },
     "execution_count": 22,
     "metadata": {},
     "output_type": "execute_result"
    }
   ],
   "source": [
    "\"\"\"Q5. Write a code to create numpy array of 3*3 matrix containing zeros only, using a numpy array\n",
    "creation function.\"\"\"\n",
    "import numpy as np\n",
    "mat=np.zeros((3,3))\n",
    "mat"
   ]
  },
  {
   "cell_type": "code",
   "execution_count": 23,
   "id": "90eee658-4ef6-4929-b1e9-0597b1f43dcb",
   "metadata": {},
   "outputs": [
    {
     "name": "stdout",
     "output_type": "stream",
     "text": [
      "size = 9\n",
      "shape =  (3, 3)\n"
     ]
    }
   ],
   "source": [
    "print(\"size =\",np.size(mat))\n",
    "print(\"shape = \",np.shape(mat))"
   ]
  },
  {
   "cell_type": "code",
   "execution_count": 24,
   "id": "c088fbbb-4164-4319-9863-bd41fc492053",
   "metadata": {},
   "outputs": [
    {
     "data": {
      "text/plain": [
       "array([[1., 0., 0., 0., 0.],\n",
       "       [0., 1., 0., 0., 0.],\n",
       "       [0., 0., 1., 0., 0.],\n",
       "       [0., 0., 0., 1., 0.],\n",
       "       [0., 0., 0., 0., 1.]])"
      ]
     },
     "execution_count": 24,
     "metadata": {},
     "output_type": "execute_result"
    }
   ],
   "source": [
    "\"\"\"Q6. Create an identity matrix of shape (5,5) using numpy functions?\"\"\"\n",
    "import numpy as np\n",
    "np.eye(5)"
   ]
  },
  {
   "cell_type": "code",
   "execution_count": null,
   "id": "83b15480-6976-45dc-8d9d-e08c96809343",
   "metadata": {},
   "outputs": [],
   "source": []
  }
 ],
 "metadata": {
  "kernelspec": {
   "display_name": "Python 3 (ipykernel)",
   "language": "python",
   "name": "python3"
  },
  "language_info": {
   "codemirror_mode": {
    "name": "ipython",
    "version": 3
   },
   "file_extension": ".py",
   "mimetype": "text/x-python",
   "name": "python",
   "nbconvert_exporter": "python",
   "pygments_lexer": "ipython3",
   "version": "3.10.8"
  }
 },
 "nbformat": 4,
 "nbformat_minor": 5
}
