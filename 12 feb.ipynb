{
 "cells": [
  {
   "cell_type": "code",
   "execution_count": 1,
   "id": "e863d6c9-a460-48b0-9203-e77cd17e9781",
   "metadata": {},
   "outputs": [
    {
     "data": {
      "text/plain": [
       "'Occurrence: Exceptions occur during the execution of a program when an unexpected situation arises, whereas syntax errors are detected during the parsing phase before the execution.\\n\\nNature: Exceptions indicate runtime errors or exceptional conditions that can be handled programmatically, while syntax errors indicate mistakes in the structure or grammar of the code.\\n\\nDetection: Exceptions are raised explicitly by the code or implicitly by the Python runtime when an error occurs. Syntax errors are detected automatically by the Python interpreter when it encounters incorrect syntax.\\n\\nHandling: Exceptions can be caught and handled using try-except blocks, allowing the program to recover from errors. Syntax errors cannot be caught or handled as they prevent the code from executing altogether.'"
      ]
     },
     "execution_count": 1,
     "metadata": {},
     "output_type": "execute_result"
    }
   ],
   "source": [
    "\"Q1.what is an Exception in pthon? Write the difference between Exeptions and syntax error\"\n",
    "#In Python, an exception is an event that occurs during the execution of a program that disrupts the normal flow of the program's instructions. When an exceptional situation arises, Python raises an exception to indicate that something unexpected or erroneous has occurred.\n",
    "\n",
    "#differences between exceptions and syntax errors:\n",
    "\n",
    "\"\"\"Occurrence: Exceptions occur during the execution of a program when an unexpected situation arises, whereas syntax errors are detected during the parsing phase before the execution.\n",
    "\n",
    "Nature: Exceptions indicate runtime errors or exceptional conditions that can be handled programmatically, while syntax errors indicate mistakes in the structure or grammar of the code.\n",
    "\n",
    "Detection: Exceptions are raised explicitly by the code or implicitly by the Python runtime when an error occurs. Syntax errors are detected automatically by the Python interpreter when it encounters incorrect syntax.\n",
    "\n",
    "Handling: Exceptions can be caught and handled using try-except blocks, allowing the program to recover from errors. Syntax errors cannot be caught or handled as they prevent the code from executing altogether.\"\"\""
   ]
  },
  {
   "cell_type": "code",
   "execution_count": 2,
   "id": "651b90a3-3beb-49fe-9dcd-5aa30f619faf",
   "metadata": {},
   "outputs": [
    {
     "name": "stdout",
     "output_type": "stream",
     "text": [
      "zero division error\n"
     ]
    }
   ],
   "source": [
    "#Q2. What happens when an exception is not handled? Explain with an example\n",
    "#When an exception is not handled, it propagates up through the call stack until it reaches the top-level scope of the program. If the exception reaches this point without being caught and handled, it results in the termination of the program and an error message is displayed.\n",
    "try:\n",
    "    a=10/0\n",
    "except:\n",
    "    print(\"zero division error\")"
   ]
  },
  {
   "cell_type": "code",
   "execution_count": 12,
   "id": "3ccca42a-e97e-4ca1-a044-e6fee239a5c6",
   "metadata": {},
   "outputs": [
    {
     "name": "stdin",
     "output_type": "stream",
     "text": [
      "enter the number 2\n",
      "enter the number 0\n"
     ]
    },
    {
     "name": "stdout",
     "output_type": "stream",
     "text": [
      "division by zero\n"
     ]
    }
   ],
   "source": [
    "#Q3. Which Python statements are used to catch and handle the exceptions explain with an example\n",
    "#In Python, the try and except statements are used to catch and handle exceptions. The try block is used to enclose the code that might raise an exception, and the except block is used to specify the actions to be taken when a particular exception is encountered.\n",
    "try:\n",
    "    a=int(input(\"enter the number\"))\n",
    "    b=int(input(\"enter the number\"))\n",
    "    print(a/b)\n",
    "except Exception as e:\n",
    "         print(e)"
   ]
  },
  {
   "cell_type": "code",
   "execution_count": 14,
   "id": "e8da622a-e8cf-4932-9335-192be1102f4d",
   "metadata": {},
   "outputs": [
    {
     "name": "stdout",
     "output_type": "stream",
     "text": [
      "Division successful.\n",
      "5.0\n",
      "Error: Cannot divide by zero!\n",
      "None\n"
     ]
    }
   ],
   "source": [
    "\"\"\"Q4. Explain with an example:\n",
    "    try and else\n",
    "    finally\n",
    "    raise\"\"\"\n",
    "def divide_numbers(a, b):\n",
    "    try:\n",
    "        result = a / b\n",
    "        print(\"Division successful.\")\n",
    "        return result\n",
    "    except ZeroDivisionError:\n",
    "        print(\"Error: Cannot divide by zero!\")\n",
    "    else:\n",
    "        print(\"No exception occurred. Division result:\", result)\n",
    "print(divide_numbers(10, 2))\n",
    "print(divide_numbers(5, 0)) \n",
    "#in try block if any exception occurs it will be caught and handled and if there is no exception then it will not execute the except block\n",
    "#except will be executed if there is any exception in the try block\n",
    "#else block will be executed if and only if try block is executed successfully"
   ]
  },
  {
   "cell_type": "code",
   "execution_count": null,
   "id": "c662b855-2f7a-47b7-a081-cfae695029b9",
   "metadata": {},
   "outputs": [],
   "source": [
    "#finally\n",
    "def divide_numbers(a, b):\n",
    "    try:\n",
    "        result = a / b\n",
    "        print(\"Division successful.\")\n",
    "        return result\n",
    "    except ZeroDivisionError:\n",
    "        print(\"Error: Cannot divide by zero!\")\n",
    "    else:\n",
    "        print(\"No exception occurred. Division result:\", result)\n",
    "print(divide_numbers(10, 2))\n",
    "print(divide_numbers(5, 0)) \n",
    "finally:\n",
    "    print(\"end of the code\")\n",
    "#The finally statement in Python is used to define a block of code that will be executed regardless of whether an exception occurs or not. It ensures that certain actions or cleanup tasks are performed, regardless of the outcome of the preceding code block.\n"
   ]
  },
  {
   "cell_type": "code",
   "execution_count": 15,
   "id": "146ec7d4-55d2-4e8e-8d64-f28d056f4bdc",
   "metadata": {},
   "outputs": [
    {
     "name": "stdout",
     "output_type": "stream",
     "text": [
      "Age is valid.\n",
      "Error: You must be 18 or older.\n"
     ]
    }
   ],
   "source": [
    "# raise\n",
    "def check_age(age):\n",
    "    if age < 0:\n",
    "        raise ValueError(\"Age cannot be negative.\")\n",
    "    elif age < 18:\n",
    "        raise ValueError(\"You must be 18 or older.\")\n",
    "    else:\n",
    "        print(\"Age is valid.\")\n",
    "try:\n",
    "    check_age(21)   \n",
    "    check_age(15)   \n",
    "    check_age(-5)  \n",
    "except ValueError as e:\n",
    "    print(\"Error:\", str(e))\n",
    "#The raise statement in Python is used to explicitly raise an exception. It allows you to generate and raise exceptions in your code, rather than relying solely on the exceptions that occur naturally during runtime."
   ]
  },
  {
   "cell_type": "code",
   "execution_count": 16,
   "id": "4d15ae4c-e967-49f1-ab30-2877b77a390e",
   "metadata": {},
   "outputs": [
    {
     "name": "stdout",
     "output_type": "stream",
     "text": [
      "Age is valid.\n",
      "Error: You must be 18 or older.\n"
     ]
    }
   ],
   "source": [
    "#Q5. What are Custom Exceptions in python? Why do we need Custom Exceptions? Explain with an example\n",
    "\"\"\"Custom exceptions in Python are user-defined exceptions that inherit from the base Exception class or one of its subclasses. They allow you to define your own types of exceptions to handle specific exceptional situations that may arise in your code.\n",
    "\n",
    "There are several reasons why custom exceptions are useful:\n",
    "\n",
    "Specificity: Custom exceptions allow you to create exception types that are specific to your application or domain. This helps in providing more detailed and meaningful information about the nature of the exception, making it easier to understand and handle the exceptional situations.\n",
    "\n",
    "Organization: By defining custom exceptions, you can organize and categorize different types of exceptions in your codebase. This improves code readability and maintainability, as it becomes easier to identify and handle specific types of exceptions based on their purpose.\n",
    "\n",
    "Error handling: Custom exceptions enable you to implement specialized error handling logic for different types of exceptions. You can catch specific custom exceptions separately and perform actions based on the specific exception type, allowing you to handle different exceptional scenarios in a more fine-grained manner.\"\"\"\n",
    "def check_age(age):\n",
    "    if age < 0:\n",
    "        raise ValueError(\"Age cannot be negative.\")\n",
    "    elif age < 18:\n",
    "        raise ValueError(\"You must be 18 or older.\")\n",
    "    else:\n",
    "        print(\"Age is valid.\")\n",
    "try:\n",
    "    check_age(21)   \n",
    "    check_age(15)   \n",
    "    check_age(-5)  \n",
    "except ValueError as e:\n",
    "    print(\"Error:\", str(e))"
   ]
  },
  {
   "cell_type": "code",
   "execution_count": 23,
   "id": "53b68e1f-1cdc-49a7-b698-1d508134997e",
   "metadata": {},
   "outputs": [
    {
     "name": "stdin",
     "output_type": "stream",
     "text": [
      "enter the age 4\n"
     ]
    },
    {
     "name": "stdout",
     "output_type": "stream",
     "text": [
      "age is valid\n"
     ]
    }
   ],
   "source": [
    "#Q6. Create custom exception ,class Use this class to handle an exception\n",
    "class valage(Exception):\n",
    "    def __init__(self,msg):\n",
    "        self.msg=msg\n",
    "def valage(age):\n",
    "    if(age)<0:\n",
    "        raise valage(\"age is negative\")\n",
    "    else:\n",
    "        print(\"age is valid\")\n",
    "try:\n",
    "    age=int(input(\"enter the age\"))\n",
    "    valage(age)\n",
    "except valage as e:\n",
    "    print(e)\n",
    "        "
   ]
  },
  {
   "cell_type": "code",
   "execution_count": null,
   "id": "07e38037-9006-4e1c-bdb3-5c58634c8c8b",
   "metadata": {},
   "outputs": [],
   "source": []
  }
 ],
 "metadata": {
  "kernelspec": {
   "display_name": "Python 3 (ipykernel)",
   "language": "python",
   "name": "python3"
  },
  "language_info": {
   "codemirror_mode": {
    "name": "ipython",
    "version": 3
   },
   "file_extension": ".py",
   "mimetype": "text/x-python",
   "name": "python",
   "nbconvert_exporter": "python",
   "pygments_lexer": "ipython3",
   "version": "3.10.8"
  }
 },
 "nbformat": 4,
 "nbformat_minor": 5
}
