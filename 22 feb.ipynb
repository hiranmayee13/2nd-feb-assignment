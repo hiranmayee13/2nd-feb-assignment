{
 "cells": [
  {
   "cell_type": "code",
   "execution_count": 6,
   "id": "b504933b-96d2-425a-b488-111aa5ebe55a",
   "metadata": {},
   "outputs": [
    {
     "name": "stdout",
     "output_type": "stream",
     "text": [
      "0     4\n",
      "1     8\n",
      "2    15\n",
      "3    16\n",
      "4    23\n",
      "5    42\n",
      "dtype: int64\n"
     ]
    }
   ],
   "source": [
    "\"\"\"Q1. Create a Pandas Series that contains the following data: 4, 8, 15, 16, 23, and 42. Then, print the series.\"\"\"\n",
    "import pandas as pd\n",
    "data=[4,8,15,16,23,42]\n",
    "series=pd.Series(data)\n",
    "print(series)"
   ]
  },
  {
   "cell_type": "code",
   "execution_count": 7,
   "id": "03ecff41-3fa2-46d1-a60a-21d7020bde76",
   "metadata": {},
   "outputs": [
    {
     "name": "stdout",
     "output_type": "stream",
     "text": [
      "0     1\n",
      "1     2\n",
      "2     3\n",
      "3     4\n",
      "4     5\n",
      "5     6\n",
      "6     7\n",
      "7     8\n",
      "8     9\n",
      "9    10\n",
      "dtype: int64\n"
     ]
    }
   ],
   "source": [
    "\"\"\"Q2. Create a variable of list type containing 10 elements in it, and apply pandas.Series function on the\n",
    "variable print it.\"\"\" \n",
    "    \n",
    "import pandas as pd\n",
    "\n",
    "my_list = [1, 2, 3, 4, 5, 6, 7, 8, 9, 10]\n",
    "series = pd.Series(my_list)\n",
    "print(series)"
   ]
  },
  {
   "cell_type": "code",
   "execution_count": 10,
   "id": "15d4e759-4d09-4c55-873d-5953251ca841",
   "metadata": {},
   "outputs": [
    {
     "name": "stdout",
     "output_type": "stream",
     "text": [
      "     name  Age  Gender\n",
      "0   Alice   25  Female\n",
      "1     Bob   30    Male\n",
      "2  Claire   27  Female\n"
     ]
    }
   ],
   "source": [
    "\"\"\"Q3. Create a Pandas DataFrame that contains the following data:\n",
    "Name       Age       Gender\n",
    "Alice      25         female\n",
    "Bob        30         male\n",
    "Claire     27         female\n",
    "Then, print the DataFrame.\"\"\"\n",
    "\n",
    "import pandas as pd\n",
    "data={'name':['Alice','Bob','Claire'],'Age':[25,30,27],'Gender':['Female','Male','Female']}\n",
    "df = pd.DataFrame(data)\n",
    "\n",
    "print(df)"
   ]
  },
  {
   "cell_type": "code",
   "execution_count": 12,
   "id": "c47ba58e-11cb-4b14-a1ba-6192f245216d",
   "metadata": {},
   "outputs": [
    {
     "name": "stdout",
     "output_type": "stream",
     "text": [
      "   Name  Age      City\n",
      "0  John   25  New York\n",
      "1  Emma   28    London\n",
      "2  Mike   30     Paris\n"
     ]
    }
   ],
   "source": [
    "\"\"\"Q4. What is ‘DataFrame’ in pandas and how is it different from pandas.series? Explain with an example.\"\"\"\n",
    "#Ans\n",
    "\"\"\"In pandas, a DataFrame is a two-dimensional data structure that represents tabular data, similar to a table \n",
    "in a relational database or a spreadsheet. It consists of rows and columns, where each column can have a \n",
    "different data type. A DataFrame can be seen as a collection of Pandas Series objects, where each Series \n",
    "represents a column of data.\n",
    "\n",
    "A Pandas Series, on the other hand, is a one-dimensional array-like object that can hold any data type. \n",
    "It is similar to a column in a DataFrame and can be labeled with an index.\"\"\"\n",
    "import pandas as pd\n",
    "\n",
    "# Creating a DataFrame\n",
    "data = {'Name': ['John', 'Emma', 'Mike'],\n",
    "        'Age': [25, 28, 30],\n",
    "        'City': ['New York', 'London', 'Paris']}\n",
    "df = pd.DataFrame(data)\n",
    "print(df)\n"
   ]
  },
  {
   "cell_type": "code",
   "execution_count": 13,
   "id": "efaf026a-b8bf-4ac0-a6b2-4d5c5c6f1a22",
   "metadata": {},
   "outputs": [
    {
     "name": "stdout",
     "output_type": "stream",
     "text": [
      "0     4\n",
      "1     8\n",
      "2    15\n",
      "3    16\n",
      "4    23\n",
      "5    42\n",
      "dtype: int64\n"
     ]
    }
   ],
   "source": [
    "import pandas as pd\n",
    "\n",
    "# Creating a Series\n",
    "data = [4, 8, 15, 16, 23, 42]\n",
    "series = pd.Series(data)\n",
    "print(series)\n",
    "  \n",
    "\"\"\"Here, we created a Pandas Series series using a list data. The Series has a single column of data,\n",
    "and each value is labeled with an index.\"\"\""
   ]
  },
  {
   "cell_type": "code",
   "execution_count": null,
   "id": "0132b3d9-1c27-4944-bbfe-80a885be861e",
   "metadata": {},
   "outputs": [],
   "source": [
    "\"\"\"Q5. What are some common functions you can use to manipulate data in a Pandas DataFrame? Can\n",
    "you give an example of when you might use one of these functions?\"\"\"\n",
    "#Ans\n",
    "\n",
    "\"\"\"\n",
    "Pandas provides a wide range of functions to manipulate and analyze data in a DataFrame. Some common \n",
    "functions include:\n"
   ]
  },
  {
   "cell_type": "code",
   "execution_count": 14,
   "id": "122e2cd8-146d-4d34-9b0f-d411b97e9dff",
   "metadata": {},
   "outputs": [
    {
     "name": "stdout",
     "output_type": "stream",
     "text": [
      "   Name  Age      City\n",
      "0  John   25  New York\n",
      "1  Emma   28    London\n",
      "2  Mike   30     Paris\n"
     ]
    }
   ],
   "source": [
    "\"\"\"1.head(): This function allows you to view the first n rows of a DataFrame. It is useful for quickly \n",
    "inspecting the structure and contents of a DataFrame. For example:\"\"\"\n",
    "import pandas as pd\n",
    "\n",
    "# Create a DataFrame\n",
    "data = {'Name': ['John', 'Emma', 'Mike', 'Emily'],\n",
    "        'Age': [25, 28, 30, 32],\n",
    "        'City': ['New York', 'London', 'Paris', 'Sydney']}\n",
    "df = pd.DataFrame(data)\n",
    "\n",
    "# Display the first 3 rows\n",
    "print(df.head(3))\n"
   ]
  },
  {
   "cell_type": "code",
   "execution_count": 15,
   "id": "eec01738-54f0-40b1-8ad1-bf1fc873cb01",
   "metadata": {},
   "outputs": [
    {
     "name": "stdout",
     "output_type": "stream",
     "text": [
      "    Name  Age    City\n",
      "1   Emma   28  London\n",
      "2   Mike   30   Paris\n",
      "3  Emily   32  Sydney\n"
     ]
    }
   ],
   "source": [
    "\"\"\"2. tail(): Similar to head(), tail() allows you to view the last n rows of a DataFrame. It is useful \n",
    "for quickly checking the end of the DataFrame. For example:\"\"\"\n",
    "\n",
    "# Create a DataFrame\n",
    "data = {'Name': ['John', 'Emma', 'Mike', 'Emily'],\n",
    "        'Age': [25, 28, 30, 32],\n",
    "        'City': ['New York', 'London', 'Paris', 'Sydney']}\n",
    "df = pd.DataFrame(data)\n",
    "\n",
    "# Display the last 3 rows\n",
    "print(df.tail(3))\n"
   ]
  },
  {
   "cell_type": "code",
   "execution_count": 17,
   "id": "fdbe6ec8-42f9-41d7-8e09-04dc9cc84c2d",
   "metadata": {},
   "outputs": [
    {
     "name": "stdout",
     "output_type": "stream",
     "text": [
      "(4, 3)\n"
     ]
    }
   ],
   "source": [
    "\"\"\"3.shape: This function returns the dimensions of the DataFrame as a tuple (rows, columns). It helps \n",
    "you understand the size of your data. For example:\"\"\"\n",
    "\n",
    "# Create a DataFrame\n",
    "data = {'Name': ['John', 'Emma', 'Mike', 'Emily'],\n",
    "        'Age': [25, 28, 30, 32],\n",
    "        'City': ['New York', 'London', 'Paris', 'Sydney']}\n",
    "df = pd.DataFrame(data)\n",
    "\n",
    "print(df.shape)\n"
   ]
  },
  {
   "cell_type": "code",
   "execution_count": 3,
   "id": "6fe5bc25-a709-4d2b-9355-92f03a12905d",
   "metadata": {},
   "outputs": [
    {
     "name": "stdout",
     "output_type": "stream",
     "text": [
      "             Age\n",
      "count   4.000000\n",
      "mean   28.750000\n",
      "std     2.986079\n",
      "min    25.000000\n",
      "25%    27.250000\n",
      "50%    29.000000\n",
      "75%    30.500000\n",
      "max    32.000000\n"
     ]
    }
   ],
   "source": [
    "\"\"\" 4.describe(): This function generates descriptive statistics of the DataFrame, including count, mean,\n",
    "standard deviation, minimum, maximum, and quartile values. It provides a quick summary of the numerical \n",
    "columns in the DataFrame. For example:\"\"\"\n",
    "\n",
    "# Create a DataFrame\n",
    "import pandas as pd\n",
    "data = {'Name': ['John', 'Emma', 'Mike', 'Emily'],\n",
    "        'Age': [25, 28, 30, 32],\n",
    "        'City': ['New York', 'London', 'Paris', 'Sydney']}\n",
    "df = pd.DataFrame(data)\n",
    "\n",
    "print(df.describe())"
   ]
  },
  {
   "cell_type": "code",
   "execution_count": null,
   "id": "d3d6a872-e0e0-4c3b-afff-ebc602758551",
   "metadata": {},
   "outputs": [],
   "source": [
    "\"\"\"Q6. Which of the following is mutable in nature Series, DataFrame, Panel?\"\"\"\n",
    "#ans \n",
    "   Among the options provided, the mutable nature applies to the DataFrame in pandas. \n",
    "    Both Series and Panel are immutable in nature."
   ]
  },
  {
   "cell_type": "code",
   "execution_count": 4,
   "id": "5cb5f635-ec91-43d0-938d-dc4b90caefe2",
   "metadata": {},
   "outputs": [
    {
     "name": "stdout",
     "output_type": "stream",
     "text": [
      "   Name  Age      City\n",
      "0  John   25  New York\n",
      "1  Emma   28    London\n",
      "2  Mike   30     Paris\n"
     ]
    }
   ],
   "source": [
    "\"\"\"Q7. Create a DataFrame using multiple Series. Explain with an example.\"\"\"\n",
    "#Ans\n",
    "\n",
    "\n",
    "\n",
    "\n",
    "import pandas as pd\n",
    "\n",
    "# Create the Series\n",
    "name_series = pd.Series(['John', 'Emma', 'Mike'])\n",
    "age_series = pd.Series([25, 28, 30])\n",
    "city_series = pd.Series(['New York', 'London', 'Paris'])\n",
    "\n",
    "# Create the DataFrame\n",
    "data = {'Name': name_series, 'Age': age_series, 'City': city_series}\n",
    "df = pd.DataFrame(data)\n",
    "\n",
    "# Print the DataFrame\n",
    "print(df)\n"
   ]
  },
  {
   "cell_type": "code",
   "execution_count": null,
   "id": "383188db-244e-4f93-87c0-c1923ce68b0c",
   "metadata": {},
   "outputs": [],
   "source": []
  }
 ],
 "metadata": {
  "kernelspec": {
   "display_name": "Python 3 (ipykernel)",
   "language": "python",
   "name": "python3"
  },
  "language_info": {
   "codemirror_mode": {
    "name": "ipython",
    "version": 3
   },
   "file_extension": ".py",
   "mimetype": "text/x-python",
   "name": "python",
   "nbconvert_exporter": "python",
   "pygments_lexer": "ipython3",
   "version": "3.10.8"
  }
 },
 "nbformat": 4,
 "nbformat_minor": 5
}
