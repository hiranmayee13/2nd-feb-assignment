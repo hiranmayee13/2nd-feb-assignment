{
 "cells": [
  {
   "cell_type": "code",
   "execution_count": 2,
   "id": "8169a05d-2531-4486-98b3-f56f5184b5d5",
   "metadata": {},
   "outputs": [
    {
     "data": {
      "text/plain": [
       "[1, 3, 5, 7, 9, 11, 13, 15, 17, 19, 21, 23, 25]"
      ]
     },
     "execution_count": 2,
     "metadata": {},
     "output_type": "execute_result"
    }
   ],
   "source": [
    "\"\"\"Q1. Which keyword is used to create a function? Create a function to return a list of odd numbers in the\n",
    "range of 1 to 25.\"\"\"\n",
    "#def\n",
    "def odd():\n",
    "    return list(range(1,26,2))\n",
    "odd()"
   ]
  },
  {
   "cell_type": "code",
   "execution_count": 3,
   "id": "fa8406dd-b96e-4be1-b4ff-b883365476ef",
   "metadata": {},
   "outputs": [
    {
     "name": "stdout",
     "output_type": "stream",
     "text": [
      "args : 1\n",
      "args : 2\n",
      "args : 3\n",
      "a : 4\n",
      "b : 5\n",
      "c : 6\n"
     ]
    }
   ],
   "source": [
    "\"\"\"Q2. Why *args and **kwargs is used in some functions? Create a function each for *args and **kwargs\n",
    "to demonstrate their use.\"\"\"\n",
    "#*args is used to pass a non-keyworded, variable length argument list to the function. When calling the function, you can pass any number of arguments without explicitly naming them. The arguments will be passed to the function as a tuple.\n",
    "#**kwargs is used to pass keyworded, variable length argument dictionary to the function. When calling the function, you can pass any number of keyword arguments without explicitly naming them. The keyword arguments will be passed to the function as a dictionary.\n",
    "\n",
    "#for example,\n",
    "def func(*args,**kwargs):\n",
    "    for i in args:\n",
    "        print(f\"args : {i}\")\n",
    "    for i,j in kwargs.items():\n",
    "        print(f\"{i} : {j}\")\n",
    "func(1,2,3,a=4,b=5,c=6)\n"
   ]
  },
  {
   "cell_type": "code",
   "execution_count": 4,
   "id": "6742e82a-b10b-4706-8820-e2f2057220d3",
   "metadata": {},
   "outputs": [
    {
     "name": "stdout",
     "output_type": "stream",
     "text": [
      "2\n",
      "4\n",
      "6\n",
      "8\n",
      "10\n"
     ]
    }
   ],
   "source": [
    "'''Q3. What is an iterator in python? Name the method used to initialise the iterator object and the method\n",
    "used for iteration. Use these methods to print the first five elements of the given list [2, 4, 6, 8, 10, 12, 14,\n",
    "16, 18, 20].'''\n",
    "\n",
    "#An iterator in Python is an object that implements the iterator protocol, which consists of the methods __iter__() and __next__(). An object is called an iterator if it can be iterated upon, meaning you can traverse through all the values.\n",
    "list_numbers = [2, 4, 6, 8, 10, 12, 14, 16, 18, 20]\n",
    "\n",
    "# Initialize the iterator object\n",
    "iterator_obj = iter(list_numbers)\n",
    "\n",
    "# Iterate through the first five elements\n",
    "for i in range(5):\n",
    "    print(next(iterator_obj))\n"
   ]
  },
  {
   "cell_type": "code",
   "execution_count": 5,
   "id": "f7ee26a0-445a-4301-a9cf-de0f7af265e4",
   "metadata": {},
   "outputs": [
    {
     "name": "stdout",
     "output_type": "stream",
     "text": [
      "0\n",
      "2\n",
      "4\n",
      "6\n",
      "8\n"
     ]
    }
   ],
   "source": [
    "\"\"\"Q4. What is a generator function in python? Why yield keyword is used? Give an example of a generator\n",
    "function.\"\"\"\n",
    "\n",
    "#ans\n",
    "#a generator is a function that returns an iterator object. It generates values on the fly and allows us to iterate over large or infinite sequences of values without creating a list or a tuple in memory.\n",
    "def generate_even_numbers(n):\n",
    "    i = 0\n",
    "    while i < n:\n",
    "        yield i * 2\n",
    "        i += 1\n",
    "for even_number in generate_even_numbers(5):\n",
    "    print(even_number)\n"
   ]
  },
  {
   "cell_type": "code",
   "execution_count": 1,
   "id": "49c1d8dd-6180-4f9a-88eb-833bc9a676b9",
   "metadata": {},
   "outputs": [
    {
     "name": "stdout",
     "output_type": "stream",
     "text": [
      "2\n",
      "3\n",
      "5\n",
      "7\n",
      "11\n",
      "13\n",
      "17\n",
      "19\n",
      "23\n",
      "29\n",
      "31\n",
      "37\n",
      "41\n",
      "43\n",
      "47\n",
      "53\n",
      "59\n",
      "61\n",
      "67\n",
      "71\n"
     ]
    }
   ],
   "source": [
    "\"\"\"Q5. Create a generator function for prime numbers less than 1000. Use the next() method to print the\n",
    "        first 20 prime numbers.\"\"\"\n",
    "def prime_generator():\n",
    "    primes = []\n",
    "    num = 2\n",
    "\n",
    "    while True:\n",
    "        if all(num % prime != 0 for prime in primes):\n",
    "            primes.append(num)\n",
    "            yield num\n",
    "        num += 1\n",
    "\n",
    "prime_gen = prime_generator()\n",
    "\n",
    "\n",
    "for _ in range(20):\n",
    "    prime = next(prime_gen)\n",
    "    print(prime)\n"
   ]
  },
  {
   "cell_type": "code",
   "execution_count": 6,
   "id": "afc39ece-d801-4bed-acad-2718beaef161",
   "metadata": {},
   "outputs": [
    {
     "name": "stdout",
     "output_type": "stream",
     "text": [
      "0\n",
      "1\n",
      "1\n",
      "2\n",
      "3\n",
      "5\n",
      "8\n",
      "13\n",
      "21\n",
      "34\n"
     ]
    }
   ],
   "source": [
    "'''Q6. Write a python program to print the first 10 Fibonacci numbers using a while loop.'''\n",
    "\n",
    "a,b = 0,1\n",
    "i = 1\n",
    "while i <= 10:\n",
    "    print(a)\n",
    "    c = a + b\n",
    "    a = b\n",
    "    b = c\n",
    "    i = i + 1\n"
   ]
  },
  {
   "cell_type": "code",
   "execution_count": 7,
   "id": "29de5380-cf1e-415e-b62c-692cc3e63c4d",
   "metadata": {},
   "outputs": [
    {
     "data": {
      "text/plain": [
       "['p', 'w', 's', 'k', 'i', 'l', 'l', 's']"
      ]
     },
     "execution_count": 7,
     "metadata": {},
     "output_type": "execute_result"
    }
   ],
   "source": [
    "'''Q7. Write a List Comprehension to iterate through the given string: ‘pwskills’.\n",
    "Expected output: ['p', 'w', 's', 'k', 'i', 'l', 'l', 's']'''\n",
    "\n",
    "[i for i in \"pwskills\"]\n"
   ]
  },
  {
   "cell_type": "code",
   "execution_count": 9,
   "id": "b0fc51b2-5af6-42ce-a9ae-4f7d348fb0eb",
   "metadata": {},
   "outputs": [
    {
     "name": "stdin",
     "output_type": "stream",
     "text": [
      "Enter the number :  343\n"
     ]
    },
    {
     "name": "stdout",
     "output_type": "stream",
     "text": [
      "Palindrome Number\n"
     ]
    }
   ],
   "source": [
    "'''Q8. Write a python program to check whether a given number is Palindrome or not using a while loop.'''\n",
    "\n",
    "num = int(input(\"Enter the number : \"))\n",
    "number = num\n",
    "rev_num = 0\n",
    "while num > 0:\n",
    "    last_dig = num % 10\n",
    "    rev_num = (rev_num * 10) + last_dig\n",
    "    num = num // 10\n",
    "if number == rev_num:\n",
    "    print(\"Palindrome Number\")\n",
    "else :\n",
    "    print(\"Not a Palindrome Number\")\n"
   ]
  },
  {
   "cell_type": "code",
   "execution_count": 10,
   "id": "7b1d525d-25a6-462b-a1ea-a28c951cfbae",
   "metadata": {},
   "outputs": [
    {
     "data": {
      "text/plain": [
       "[1,\n",
       " 3,\n",
       " 5,\n",
       " 7,\n",
       " 9,\n",
       " 11,\n",
       " 13,\n",
       " 15,\n",
       " 17,\n",
       " 19,\n",
       " 21,\n",
       " 23,\n",
       " 25,\n",
       " 27,\n",
       " 29,\n",
       " 31,\n",
       " 33,\n",
       " 35,\n",
       " 37,\n",
       " 39,\n",
       " 41,\n",
       " 43,\n",
       " 45,\n",
       " 47,\n",
       " 49,\n",
       " 51,\n",
       " 53,\n",
       " 55,\n",
       " 57,\n",
       " 59,\n",
       " 61,\n",
       " 63,\n",
       " 65,\n",
       " 67,\n",
       " 69,\n",
       " 71,\n",
       " 73,\n",
       " 75,\n",
       " 77,\n",
       " 79,\n",
       " 81,\n",
       " 83,\n",
       " 85,\n",
       " 87,\n",
       " 89,\n",
       " 91,\n",
       " 93,\n",
       " 95,\n",
       " 97,\n",
       " 99]"
      ]
     },
     "execution_count": 10,
     "metadata": {},
     "output_type": "execute_result"
    }
   ],
   "source": [
    "'''Q9. Write a code to print odd numbers from 1 to 100 using list comprehension.'''\n",
    "\n",
    "[i for i in range(1,100,2) ]\n"
   ]
  }
 ],
 "metadata": {
  "kernelspec": {
   "display_name": "Python 3 (ipykernel)",
   "language": "python",
   "name": "python3"
  },
  "language_info": {
   "codemirror_mode": {
    "name": "ipython",
    "version": 3
   },
   "file_extension": ".py",
   "mimetype": "text/x-python",
   "name": "python",
   "nbconvert_exporter": "python",
   "pygments_lexer": "ipython3",
   "version": "3.10.8"
  }
 },
 "nbformat": 4,
 "nbformat_minor": 5
}
