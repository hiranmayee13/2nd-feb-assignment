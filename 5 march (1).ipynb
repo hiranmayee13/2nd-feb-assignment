{
 "cells": [
  {
   "cell_type": "code",
   "execution_count": null,
   "id": "64f23845-85d6-4d25-924a-4001a2fe6d2d",
   "metadata": {},
   "outputs": [],
   "source": []
  },
  {
   "cell_type": "code",
   "execution_count": null,
   "id": "1607460c-d286-4700-a4e7-e5ea82b10204",
   "metadata": {},
   "outputs": [],
   "source": [
    "\"\"\"Q1. How can you create a Bokeh plot using Python code?\"\"\"\n",
    "pip install bokeh\n",
    "\n",
    "import bokeh.io\n",
    "import bokeh.plotting\n",
    "bokeh.io.output_notebook()\n",
    "from bokeh.plotting import figure,output_file,show\n",
    "from bokeh.sampledata.iris import flowers\n",
    "\n",
    "output_file=(\"test.html\")\n",
    "p=figure(title=\"test flowers\")\n",
    "p.xaxis.axis_label=(\"petal length\")\n",
    "p.yaxis.axis_label=\"petal width\"\n",
    "p.circle(flowers['petal_length'],flowers['petal_width'])\n",
    "show(p)"
   ]
  },
  {
   "cell_type": "code",
   "execution_count": null,
   "id": "ed896fa3-f2f6-403c-88f7-fd71630de701",
   "metadata": {},
   "outputs": [],
   "source": [
    "\"\"\"Q2. What are glyphs in Bokeh, and how can you add them to a Bokeh plot? Explain with an example.\"\"\"\n",
    "\"\"\"\n",
    "Ans.\n",
    "    In Bokeh, glyphs are visual shapes or markers that represent data points on a plot.They are used to visualize \n",
    "    the data\n",
    "    in a meaningful way. Bokeh provides a variety of glyphs, including circles, squares, lines, bars, patches, \n",
    "    and more.\n",
    "    \n",
    "    To add glyphs to a Bokeh plot, you need to use the appropriate glyph function provided by Bokeh and \n",
    "    specify the data and visual properties of the glyphs.\"\"\"\n",
    "from bokeh.plotting import figure, show\n",
    "\n",
    "x = [10, 12, 32, 34, 45]\n",
    "y = [26, 17, 23, 42, 53]\n",
    "p = figure(title='Scatter Plot', x_axis_label='X', y_axis_label='Y')\n",
    "p.circle(x, y, size=10, color='black', alpha=1)\n",
    "p.square(x, y, size=15, color='yellow', alpha=0.5)\n",
    "show(p)   "
   ]
  },
  {
   "cell_type": "code",
   "execution_count": null,
   "id": "5566a26b-c9ed-4cf9-9542-d181a88a3403",
   "metadata": {},
   "outputs": [],
   "source": [
    "\"\"\"Q3. How can you customize the appearance of a Bokeh plot, including the axes, title, and legend?\"\"\"\n",
    "from bokeh.plotting import figure,output_file,show\n",
    "from bokeh.sampledata.iris import flowers\n",
    "from bokeh.models import Legend\n",
    "output_file=(\"test.html\")\n",
    "p=figure(title=\"test flowers\")\n",
    "p.xaxis.axis_label=(\"petal length\")\n",
    "p.yaxis.axis_label=\"petal width\"\n",
    "p.circle(flowers['petal_length'],flowers['petal_width'],color='black',legend_label='highest points')\n",
    "show(p)"
   ]
  },
  {
   "cell_type": "code",
   "execution_count": null,
   "id": "43c92197-f6ce-4fe1-99e1-1e9f5c825f6f",
   "metadata": {},
   "outputs": [],
   "source": [
    "\"\"\"Q4. What is a Bokeh server, and how can you use it to create interactive plots that can be updated in\n",
    "real time?\"\"\"\n",
    "\"\"\"Ans.\n",
    "    A Bokeh server is a Python server application that allows you to create interactive plots and applications \n",
    "    with Bokeh.\n",
    "    It enables you to build web-based interactive visualizations and dashboards that can be updated and respond \n",
    "    to user input in real-time.\n",
    "    \n",
    "    \"\"\"\n",
    "from bokeh.plotting import curdoc, figure\n",
    "from bokeh.models import ColumnDataSource\n",
    "from bokeh.layouts import row\n",
    "from bokeh.io import push_notebook, show, output_notebook\n",
    "import numpy as np\n",
    "import time\n",
    "\n",
    "# Function to update the plot\n",
    "def update_plot():\n",
    "    new_data = {'x': np.random.random(100), 'y': np.random.random(100)}\n",
    "    source.data = new_data\n",
    "\n",
    "# Create a figure and data source\n",
    "p = figure()\n",
    "source = ColumnDataSource(data={'x': [1,2,3,4,5,6,7], 'y': [12,9,8,7,2,3,4]})\n",
    "\n",
    "# Add glyphs\n",
    "p.circle('x', 'y', source=source)\n",
    "\n",
    "# Add the figure to the document\n",
    "curdoc().add_root(row(p))\n",
    "\n",
    "# Schedule the plot update\n",
    "curdoc().add_periodic_callback(update_plot, 1000)\n",
    "\n",
    "# Run the Bokeh server\n",
    "output_notebook()\n",
    "show(p, notebook_handle=True)"
   ]
  },
  {
   "cell_type": "code",
   "execution_count": null,
   "id": "fa9a6c64-f5bc-4336-8183-c84fe5743c36",
   "metadata": {},
   "outputs": [],
   "source": [
    "\"\"\"Q5. How can you embed a Bokeh plot into a web page or dashboard using Flask or Django?\"\"\"\n",
    "Ans.\n",
    "    \n",
    "!pip install flask\n",
    "!pip install bokeh\n",
    "\n",
    "from bokeh.plotting import figure\n",
    "from bokeh.embed import components\n",
    "import numpy as np\n",
    "\n",
    "x = np.random.random(100)\n",
    "y = np.random.random(100)\n",
    "\n",
    "p = figure(title='Bokeh Scatter Plot', x_axis_label='X', y_axis_label='Y')\n",
    "p.circle(x, y, size=10, color='blue', alpha=0.5)"
   ]
  },
  {
   "cell_type": "code",
   "execution_count": null,
   "id": "baf4c977-d408-441e-9773-f50695484134",
   "metadata": {},
   "outputs": [],
   "source": [
    "Use Flask or Django to create a web application: Depending on whether you're using Flask or Django, you'll \n",
    "need to create a web application. Here's an example for each framework:\n",
    "\n",
    "from flask import Flask, render_template\n",
    "app = Flask(__name__)\n",
    "\n",
    "@app.route('/')\n",
    "def index():\n",
    "    script, div = components(p)\n",
    "    return render_template('index.html', script=script, div=div)\n",
    "\n",
    "if __name__ == '__main__':\n",
    "    app.run()"
   ]
  }
 ],
 "metadata": {
  "kernelspec": {
   "display_name": "Python 3 (ipykernel)",
   "language": "python",
   "name": "python3"
  },
  "language_info": {
   "codemirror_mode": {
    "name": "ipython",
    "version": 3
   },
   "file_extension": ".py",
   "mimetype": "text/x-python",
   "name": "python",
   "nbconvert_exporter": "python",
   "pygments_lexer": "ipython3",
   "version": "3.10.8"
  }
 },
 "nbformat": 4,
 "nbformat_minor": 5
}
