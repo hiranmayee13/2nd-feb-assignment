{
 "cells": [
  {
   "cell_type": "code",
   "execution_count": null,
   "id": "afa8ec3e-66ce-4a64-845b-c76b04348ab8",
   "metadata": {},
   "outputs": [],
   "source": [
    "\"\"\"1. Who developed Python Programming Language?\"\"\"\n",
    "Ans\n",
    "   Python was created by Guido van Rossum."
   ]
  },
  {
   "cell_type": "code",
   "execution_count": null,
   "id": "a5fc1524-0979-49b6-95e8-7ddd343e8c75",
   "metadata": {},
   "outputs": [],
   "source": [
    "\"\"\"2. Which type of Programming does Python support?\"\"\"\n",
    "Ans\n",
    "  Python is an interpreted programming language, supporting object-oriented, structured, and\n",
    "    functional programming."
   ]
  },
  {
   "cell_type": "code",
   "execution_count": null,
   "id": "f635077c-0f05-490a-adeb-d476a04c0e8c",
   "metadata": {},
   "outputs": [],
   "source": [
    "\"\"\"3. Is Python case sensitive when dealing with identifiers?\"\"\"\n",
    "Ans\n",
    "   Yes, Python is a case−sensitive programming language. This means that it considers uppercase and\n",
    "    lowercase letters differently.\n"
   ]
  },
  {
   "cell_type": "code",
   "execution_count": null,
   "id": "1746fd58-13c5-4414-be70-365e708f6c52",
   "metadata": {},
   "outputs": [],
   "source": [
    "\"\"\"4. What is the correct extension of the Python file? \"\"\"\n",
    "Ans\n",
    "  The extensions for Python files are \". py\" & PW extension is \".ipynb\" "
   ]
  },
  {
   "cell_type": "code",
   "execution_count": null,
   "id": "ecf314d7-e353-4c34-99ef-8418da364cfa",
   "metadata": {},
   "outputs": [],
   "source": [
    "\"\"\"5. Is Python code compiled or interpreted? \"\"\"\n",
    "Ans\n",
    "  Python is an interpreted language, which means the source code of a Python program is converted into \n",
    "    bytecode that is then executed by the Python virtual machine.\n"
   ]
  },
  {
   "cell_type": "code",
   "execution_count": null,
   "id": "10bd248e-3c03-4872-897a-cef13c85c2c2",
   "metadata": {},
   "outputs": [],
   "source": [
    "\"\"\"6. Name a few blocks of code used to define in Python language?\"\"\"\n",
    "Ans \n",
    "#input. ...\n",
    "#output. ...\n",
    "#sequential execution. ...\n",
    "#conditional execution. ...\n",
    "#repeated execution. ...\n",
    "#reuse."
   ]
  },
  {
   "cell_type": "code",
   "execution_count": null,
   "id": "abe51662-a762-4aab-904f-25eacee3f64b",
   "metadata": {},
   "outputs": [],
   "source": [
    "\"\"\"7. State a character used to give single-line comments in Python? \"\"\"\n",
    "Ans\n",
    "  We can write a single-line comment by adding a single # character before any statement or line of code"
   ]
  },
  {
   "cell_type": "code",
   "execution_count": null,
   "id": "9594c2fa-d926-4832-ab0b-b2bed135a3c8",
   "metadata": {},
   "outputs": [],
   "source": [
    "\"\"\"8. Mention functions which can help us to find the version of python that we are currently working on?\"\"\"\n",
    "Ans\n",
    "  The function sys. version can help us to find the version of python that we are currently working on.\n"
   ]
  },
  {
   "cell_type": "code",
   "execution_count": null,
   "id": "19659b17-2bf0-460b-8467-d2d59ecefe01",
   "metadata": {},
   "outputs": [],
   "source": [
    "\"\"\"9. Python supports the creation of anonymous functions at runtime, using a construct called ______________.\"\"\"\n",
    "\n",
    "# lambda"
   ]
  },
  {
   "cell_type": "code",
   "execution_count": null,
   "id": "a037d04a-4903-40bd-8192-eb975a235fd9",
   "metadata": {},
   "outputs": [],
   "source": [
    "\"\"\"10. What does pip stand for python? \"\"\"\n",
    "\n",
    "# pip Install Packages"
   ]
  },
  {
   "cell_type": "code",
   "execution_count": null,
   "id": "d6e1adc0-d855-40d1-8a05-74b3f89147e3",
   "metadata": {},
   "outputs": [],
   "source": [
    "\"\"\"11. Mention a few built-in functions in python?\"\"\"\n",
    "Ans \n",
    "1.print(): Used to display output on the console.\n",
    "2.len(): Returns the length (number of items) of an object, such as a string, list, or tuple.\n",
    "3.type(): Returns the type of an object.\n",
    "4.int(): Converts a value to an integer.\n",
    "5.float(): Converts a value to a floating-point number.\n",
    "6.str(): Converts a value to a string.\n",
    "7.input(): Reads input from the user through the console.\n",
    "8.range(): Generates a sequence of numbers within a specified range.\n",
    "9.abs(): Returns the absolute value of a number.\n",
    "10.max(): Returns the largest item in an iterable or the largest among two or more arguments."
   ]
  },
  {
   "cell_type": "code",
   "execution_count": null,
   "id": "ff0f122d-1088-4f83-a7f3-c3e57b60209a",
   "metadata": {},
   "outputs": [],
   "source": [
    "\"\"\"12. What is the maximum possible length of an identifier in Python? \"\"\"\n",
    "Ans\n",
    "  In Python, the maximum possible length of an identifier is implementation-dependent. \n",
    "    However, the Python style guide, known as PEP 8, recommends keeping identifiers (such as variable\n",
    "    names, function names, etc.) limited to a maximum of 79 characters. "
   ]
  },
  {
   "cell_type": "code",
   "execution_count": null,
   "id": "e47a92fc-d50d-40ed-9a08-cfb53a4a80d2",
   "metadata": {},
   "outputs": [],
   "source": [
    "\"\"\"13. What are the benefits of using Python?\"\"\"\n",
    "Ans\n",
    "# Data science (Ml , DL , Daata Analytic , computer vision , Big Data).\n",
    "# Scientific and mathematical computing.\n",
    "# Web development.\n",
    "# Finance and trading."
   ]
  },
  {
   "cell_type": "code",
   "execution_count": null,
   "id": "7292b05e-178c-420e-b4d5-d801dc4cd05b",
   "metadata": {},
   "outputs": [],
   "source": [
    "\"\"\"14. How is memory managed in Python?\"\"\"\n",
    "Ans\n",
    "# Memory in Python is managed by Python private heap space. All Python objects and data structures \n",
    "are located in a private heap. This private heap is taken care of by Python Interpreter itself, and\n",
    "a programmer doesn't have access to this private heap.\n"
   ]
  },
  {
   "cell_type": "code",
   "execution_count": null,
   "id": "62780fbe-ae72-429f-a76a-f1269340233e",
   "metadata": {},
   "outputs": [],
   "source": [
    "\"\"\"15. How to install Python on Windows and set path variables? \"\"\"\n",
    "Ans\n",
    "  i. Right-clicking This PC and going to Properties.\n",
    "\n",
    " ii. Clicking on the Advanced system settings in the menu on the left.\n",
    "\n",
    " iii. Clicking on the Environment Variables button o​n the bottom right.\n",
    "\n",
    " iv. In the System variables section, selecting the Path variable and clicking on Edit. The next screen will show all the directories that are currently a part of the PATH variable.\n",
    "\n",
    " v. Clicking on New and entering Python’s install directory."
   ]
  },
  {
   "cell_type": "code",
   "execution_count": null,
   "id": "bd0c4ca4-d62c-4dd3-8277-bec066fba411",
   "metadata": {},
   "outputs": [],
   "source": [
    "\"\"\"16. Is indentation required in python? \"\"\"\n",
    "Ans\n",
    " Yes, indentation is required in Python. Indentation plays a crucial role in Python's syntax and is\n",
    "    used to define the structure and hierarchy of code blocks. Unlike other programming languages that\n",
    "    use braces or keywords to denote code blocks, Python uses indentation to indicate the beginning and end of blocks of code.\n"
   ]
  }
 ],
 "metadata": {
  "kernelspec": {
   "display_name": "Python 3 (ipykernel)",
   "language": "python",
   "name": "python3"
  },
  "language_info": {
   "codemirror_mode": {
    "name": "ipython",
    "version": 3
   },
   "file_extension": ".py",
   "mimetype": "text/x-python",
   "name": "python",
   "nbconvert_exporter": "python",
   "pygments_lexer": "ipython3",
   "version": "3.10.8"
  }
 },
 "nbformat": 4,
 "nbformat_minor": 5
}
