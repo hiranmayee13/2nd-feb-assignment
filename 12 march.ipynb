{
 "cells": [
  {
   "cell_type": "code",
   "execution_count": 1,
   "id": "e565f72b-4524-468f-bc58-e748b33e3e8e",
   "metadata": {},
   "outputs": [
    {
     "name": "stdout",
     "output_type": "stream",
     "text": [
      "significance value: 0.050000000000000044\n",
      "t_value: 1.9842169515086827\n",
      "Mean Estimate with 95% Confidence Interval: (49.01, 50.99)\n"
     ]
    }
   ],
   "source": [
    "'''Q1. Calculate the 95% confidence interval for a sample of data with a mean of 50 and a standard deviation\n",
    "        of 5 using Python. Interpret the results.'''\n",
    "\n",
    "import scipy.stats as stats\n",
    "import math\n",
    "sample_mean = 50\n",
    "std_dev = 5\n",
    "sample_size = 100\n",
    "\n",
    "confidence_level = 0.95\n",
    "alpha = 1 - confidence_level\n",
    "t_value = stats.t.ppf(1-alpha/2, df=sample_size-1)\n",
    "std_error_mean = std_dev / (math.sqrt(sample_size))\n",
    "\n",
    "margin_of_error = t_value * std_error_mean\n",
    "\n",
    "lower_bound = sample_mean - margin_of_error\n",
    "upper_bound = sample_mean + margin_of_error\n",
    "\n",
    "print('significance value:',alpha)\n",
    "print('t_value:',t_value)\n",
    "print(f\"Mean Estimate with 95% Confidence Interval: ({lower_bound:.2f}, {upper_bound:.2f})\")"
   ]
  },
  {
   "cell_type": "code",
   "execution_count": 2,
   "id": "b5515ac4-d1a3-46d4-a52d-c039c75d9357",
   "metadata": {},
   "outputs": [
    {
     "name": "stdout",
     "output_type": "stream",
     "text": [
      "Critical Chi Square value for 0.05 significance level for 5 degrees of freedom is : 11.0705\n",
      "Test Chi2 statistic: 17.454545454545453\n",
      "p-value: 0.003713739030589342\n",
      "Reject null hypothesis\n"
     ]
    }
   ],
   "source": [
    "\"\"\"Q2. Conduct a chi-square goodness of fit test to determine if the distribution of colors of M&Ms in a bag\n",
    "matches the expected distribution of 20% blue, 20% orange, 20% green, 10% yellow, 10% red, and 20%\n",
    "brown. Use Python to perform the test with a significance level of 0.05.\"\"\"\n",
    "import numpy as np\n",
    "from scipy.stats import chisquare\n",
    "from scipy.stats import chi2\n",
    "\n",
    "# observed frequencies\n",
    "obs_freq = np.array([20,15,2,3,5,10])\n",
    "# expected frequencies\n",
    "exp_freq = np.array([0.2, 0.2, 0.2, 0.1, 0.1, 0.2]) * np.sum(obs_freq)\n",
    "\n",
    "sign_value = 0.05\n",
    "c_i = 1- sign_value\n",
    "\n",
    "dof = len(obs_freq)-1\n",
    "\n",
    "res = chi2.ppf(c_i,dof)\n",
    "print(f\"Critical Chi Square value for {sign_value} significance level for {dof} degrees of freedom is : {res:.4f}\")\n",
    "\n",
    "test_statistcal,p_value = chisquare(obs_freq,exp_freq)\n",
    "print(\"Test Chi2 statistic:\", test_statistcal)\n",
    "print(\"p-value:\", p_value)\n",
    "\n",
    "if p_value < sign_value:\n",
    "    print(\"Reject null hypothesis\")\n",
    "else:\n",
    "    print(\"Fail to reject null hypothesis\")"
   ]
  },
  {
   "cell_type": "code",
   "execution_count": 4,
   "id": "483c9822-8e94-4bbc-a229-0f8696496e0d",
   "metadata": {},
   "outputs": [
    {
     "name": "stdout",
     "output_type": "stream",
     "text": [
      "Observed Dataframe Below :\n",
      "\n",
      "           Group A  Group B\n",
      "Outcome 1       20       15\n",
      "Outcome 2       10       25\n",
      "Outcome 3       15       20\n",
      "\n",
      "-----------------------\n",
      "\n",
      "Expected Values Dataframe Below :\n",
      "\n",
      "           Group A  Group B\n",
      "Outcome 1     15.0     20.0\n",
      "Outcome 2     15.0     20.0\n",
      "Outcome 3     15.0     20.0\n",
      "Chi-square Statistics : 5.833333333333334\n",
      "P_value : 0.05411376622282158\n",
      "Reject the Null Hypothesis\n"
     ]
    }
   ],
   "source": [
    "'''Q3.Use Python to calculate the chi-square statistic and p-value for a contingency table with the \n",
    "following data:'''\n",
    "\n",
    "'''\n",
    "Group A\tGroup B\n",
    "Outcome 1\t20\t15\n",
    "Outcome 2\t10\t25\n",
    "Outcome 3\t15\t20  '''\n",
    "\n",
    "import pandas as pd\n",
    "from scipy.stats import chi2_contingency\n",
    "\n",
    "sign_val = 0.05\n",
    "obs_df = pd.DataFrame({'Group A':[20,10,15],'Group B':[15,25,20]})\n",
    "obs_df.index = ['Outcome 1','Outcome 2','Outcome 3']\n",
    "print(\"Observed Dataframe Below :\\n\")\n",
    "print(obs_df)\n",
    "print(\"\\n-----------------------\\n\")\n",
    "\n",
    "# calulate chi-square stattistics and p-value\n",
    "statistics ,p_val,dof,expected = chi2_contingency(obs_df)\n",
    "# Print Expected DataFrame\n",
    "expected_df = pd.DataFrame(expected)\n",
    "expected_df.columns = ['Group A','Group B']\n",
    "expected_df.index = ['Outcome 1','Outcome 2','Outcome 3']\n",
    "print(\"Expected Values Dataframe Below :\\n\")\n",
    "print(expected_df)\n",
    "\n",
    "print('Chi-square Statistics :',statistics)\n",
    "print('P_value :',p_val)\n",
    "\n",
    "if p_value < sign_val :\n",
    "    print(\"Reject the Null Hypothesis\")\n",
    "else:\n",
    "    print(\"Failed to reject the Null Hypothesis\")"
   ]
  },
  {
   "cell_type": "code",
   "execution_count": 5,
   "id": "88ed1fb0-e721-4090-aaa0-02ec5e363d46",
   "metadata": {},
   "outputs": [
    {
     "name": "stdout",
     "output_type": "stream",
     "text": [
      "Critical Z statistic for 95.0% is 1.9600\n",
      "95% confidence interval : (9.15%, 14.85%)\n"
     ]
    }
   ],
   "source": [
    "'''Q4. A study of the prevalence of smoking in a population of 500 individuals found that 60 individuals\n",
    "        smoked. Use Python to calculate the 95% confidence interval for the true proportion of individuals \n",
    "        in the population who smoke.'''\n",
    "\n",
    "\n",
    "import scipy.stats as stats\n",
    "import math\n",
    "\n",
    "n = 500\n",
    "x = 60\n",
    "p = x/n\n",
    "\n",
    "confidence_level = 0.95\n",
    "alpha = 1 - confidence_level\n",
    "z = stats.norm.ppf(1-alpha/2)\n",
    "print(f'Critical Z statistic for {confidence_level*100}% is {z:.4f}')\n",
    "\n",
    "se = math.sqrt((p*(1-p))/n)\n",
    "\n",
    "lower_ci = p - z*se\n",
    "upper_ci = p + z*se\n",
    "\n",
    "print(\"95% confidence interval : ({:.2f}%, {:.2f}%)\".format(lower_ci*100, upper_ci*100))"
   ]
  },
  {
   "cell_type": "code",
   "execution_count": 6,
   "id": "4a63f1f5-1f1d-46b5-8cd5-07dcd49429a8",
   "metadata": {},
   "outputs": [
    {
     "name": "stdout",
     "output_type": "stream",
     "text": [
      "t_critical for 30 samples with 90.0% confidence is : 2.9200\n",
      "90% confidence interval: (68.603, 81.397)\n"
     ]
    }
   ],
   "source": [
    "'''Q5. Calculate the 90% confidence interval for a sample of data with a mean of 75 and a standard deviation\n",
    "        of 12 using Python. Interpret the results.'''\n",
    "\n",
    "\n",
    "import scipy.stats as stats\n",
    "import math\n",
    "\n",
    "mean = 75\n",
    "std = 12\n",
    "n = 30 \n",
    "d0f = n - 1\n",
    "\n",
    "confidence_level = 0.90\n",
    "sign_val = 1 -  confidence_level\n",
    "\n",
    "t_critical = stats.t.ppf(1 - sign_val/2, dof)\n",
    "print(f't_critical for {n} samples with {confidence_level*100}% confidence is : {t_critical:.4f}')\n",
    "\n",
    "sem = std / math.sqrt(n)\n",
    "\n",
    "lower_ci = mean - t_critical * sem\n",
    "upper_ci = mean + t_critical * sem\n",
    "\n",
    "print(\"90% confidence interval: ({:.3f}, {:.3f})\".format(lower_ci, upper_ci))"
   ]
  },
  {
   "cell_type": "code",
   "execution_count": 7,
   "id": "204803af-0ebc-412f-bb79-e3686c34e85f",
   "metadata": {},
   "outputs": [
    {
     "data": {
      "image/png": "[encoded data removed]",
      "text/plain": [
       "<Figure size 800x500 with 1 Axes>"
      ]
     },
     "metadata": {},
     "output_type": "display_data"
    }
   ],
   "source": [
    "'''Q6. Use Python to plot the chi-square distribution with 10 degrees of freedom. Label the axes and shade the\n",
    "        area corresponding to a chi-square statistic of 15.'''\n",
    "\n",
    "import numpy as np\n",
    "import scipy.stats as stats\n",
    "import matplotlib.pyplot as plt\n",
    "\n",
    "df = 10\n",
    "x = np.linspace(stats.chi2.ppf(0.0001, df), stats.chi2.ppf(0.999, df), 100)\n",
    "\n",
    "fig, ax = plt.subplots(figsize=(8, 5))\n",
    "\n",
    "ax.plot(x, stats.chi2.pdf(x, df), '--g', lw=2, label='Chi-square PDF')\n",
    "\n",
    "# Calculating area under curve \n",
    "area = stats.chi2.cdf(15,df)\n",
    "\n",
    "# Shade area under the curve\n",
    "x_fill = np.linspace(stats.chi2.ppf(0.0001, df), 15, 100)\n",
    "ax.fill_between(x_fill, stats.chi2.pdf(x_fill, df), color='red', alpha=0.5,label = f'Area under shaded region = {area:.4f}')\n",
    "\n",
    "# Add legend and labels\n",
    "ax.legend(loc='best', frameon=False)\n",
    "ax.set_xlabel('X')\n",
    "ax.set_ylabel('PDF(X)')\n",
    "ax.set_title('Chi-square Distribution with 10 Degrees of Freedom')\n",
    "\n",
    "plt.show()"
   ]
  },
  {
   "cell_type": "code",
   "execution_count": 8,
   "id": "89a2bb92-57f8-4580-8de6-f76a0892b61a",
   "metadata": {},
   "outputs": [
    {
     "name": "stdout",
     "output_type": "stream",
     "text": [
      "Critical T-statistic for 99.0% confidence for 1000 samples is : 2.5808\n",
      "Estimated mean population proportion with 99.0% Confidence interval: (47.92%, 56.08)\n"
     ]
    }
   ],
   "source": [
    "'''Q7. A random sample of 1000 people was asked if they preferred Coke or Pepsi. Of the sample, 520\n",
    "        preferred Coke. Calculate a 99% confidence interval for the true proportion of people in the \n",
    "        population who prefer Coke.'''\n",
    "\n",
    "import scipy.stats as st\n",
    "\n",
    "n = 1000\n",
    "x = 520\n",
    "conf_level = 0.99\n",
    "df = n - 1\n",
    "\n",
    "p = x / n\n",
    "se = ((p * (1 - p)) / n) ** 0.5#root over\n",
    "\n",
    "# Find the t-value\n",
    "t = st.t.ppf((1 + conf_level) / 2, df)\n",
    "\n",
    "# Print the critical value\n",
    "print(f'Critical T-statistic for {conf_level*100}% confidence for {n} samples is : {t:.4f}')\n",
    "\n",
    "# Calculate the confidence interval\n",
    "lower = p - t * se\n",
    "upper = p + t * se\n",
    "\n",
    "print(f\"Estimated mean population proportion with {conf_level*100}% Confidence interval: ({lower*100:.2f}%, {upper*100:.2f})\")\n"
   ]
  },
  {
   "cell_type": "code",
   "execution_count": 9,
   "id": "6189f992-7417-4909-a3bc-5233a2023501",
   "metadata": {},
   "outputs": [
    {
     "name": "stdout",
     "output_type": "stream",
     "text": [
      "Chi-Square Test Statistic: 1.0000\n",
      "P-value: 0.3173\n",
      "Fail to reject the null hypothesis\n"
     ]
    }
   ],
   "source": [
    "'''Q8. A researcher hypothesizes that a coin is biased towards tails. They flip the coin 100 times and \n",
    "        observe 45 tails. Conduct a chi-square goodness of fit test to determine if the observed frequencies match\n",
    "        the expected frequencies of a fair coin. Use a significance level of 0.05.'''\n",
    "\n",
    "\n",
    "import scipy.stats as stats\n",
    "\n",
    "observed_frequencies = [45, 55]\n",
    "expected_frequencies = [50, 50]\n",
    "\n",
    "test_statistic, p_value = stats.chisquare(observed_frequencies, f_exp=expected_frequencies)\n",
    "#Calculate a one-way chi-square test.\n",
    "print(\"Chi-Square Test Statistic: {:.4f}\".format(test_statistic))\n",
    "print(\"P-value: {:.4f}\".format(p_value))\n",
    "\n",
    "# significance level\n",
    "alpha = 0.05\n",
    "\n",
    "if p_value < alpha:\n",
    "    print(f\"Reject the null hypothesis\")\n",
    "else:\n",
    "    print(f\"Fail to reject the null hypothesis\")"
   ]
  },
  {
   "cell_type": "code",
   "execution_count": 11,
   "id": "67f5bc35-fe96-4afa-9d5e-66ef7929ffce",
   "metadata": {},
   "outputs": [
    {
     "name": "stdout",
     "output_type": "stream",
     "text": [
      "Observed Data :\n",
      "            Lung Cancer:Yes  Lung Cancer:No\n",
      "Smoker                   60             140\n",
      "Non Smoker               30             170\n",
      "\n",
      "----------------------------------------------\n",
      "\n",
      "Expected Data :\n",
      "            Lung Cancer:Yes  Lung Cancer:No\n",
      "Smoker                 45.0           155.0\n",
      "Non Smoker             45.0           155.0\n",
      "\n",
      "Chi-Square Test Statistic: 12.0573\n",
      "P-value: 0.0005\n",
      "Reject the null hypothesis.\n",
      "Conclusion \n"
     ]
    }
   ],
   "source": [
    "'''Q9. A study was conducted to determine if there is an association between smoking status (smoker or\n",
    "    non-smoker) and lung cancer diagnosis (yes or no). The results are shown in the contingency table below.\n",
    "    Conduct a chi-square test for independence to determine if there is a significant association between\n",
    "    smoking status and lung cancer diagnosis        Use a significance level of 0.05.\n",
    "    .'''\n",
    "\n",
    "\n",
    "import pandas as pd\n",
    "import scipy.stats as stats\n",
    "\n",
    "observed_df = pd.DataFrame({'Lung Cancer:Yes':[60,30], 'Lung Cancer:No':[140,170]})\n",
    "observed_df.index = ['Smoker','Non Smoker']\n",
    "\n",
    "print('Observed Data :')\n",
    "print(observed_df)\n",
    "print('\\n----------------------------------------------\\n')\n",
    "\n",
    "# Compute the chi-square test statistic and p-value\n",
    "test_statistic, p_value, dof, expected = stats.chi2_contingency(observed_df)\n",
    "\n",
    "# Print expected df\n",
    "expected_df = pd.DataFrame(expected)\n",
    "expected_df.columns = observed_df.columns\n",
    "expected_df.index = observed_df.index\n",
    "print('Expected Data :')\n",
    "print(expected_df)\n",
    "\n",
    "print(\"\\nChi-Square Test Statistic: {:.4f}\".format(test_statistic))\n",
    "print(\"P-value: {:.4f}\".format(p_value))\n",
    "\n",
    "sign_val = 0.05\n",
    "\n",
    "if p_value < sign_val:\n",
    "        print(f\"Reject the null hypothesis.\\nConclusion \")\n",
    "else:\n",
    "    print(f\"Fail to reject the null hypothesis.\\nConculsion \")"
   ]
  },
  {
   "cell_type": "code",
   "execution_count": 14,
   "id": "26478ea4-fea4-47b6-9ab1-566bd6e3426e",
   "metadata": {},
   "outputs": [
    {
     "name": "stdout",
     "output_type": "stream",
     "text": [
      "Observed Data :\n",
      "              Milk Chocolate  Dark Chocolate  White Chocolate\n",
      "U.S. (n=500)             200             150              150\n",
      "U.K. (n=500)             225             175              100\n",
      "\n",
      "-----------------------------------------------------------------\n",
      "\n",
      "Expected Data :\n",
      "              Milk Chocolate  Dark Chocolate  White Chocolate\n",
      "U.S. (n=500)           212.5           162.5            125.0\n",
      "U.K. (n=500)           212.5           162.5            125.0\n",
      "\n",
      "Chi-Square Test Statistic: 13.3937\n",
      "P-value: 0.0012\n",
      "Reject the null hypothesis.\n"
     ]
    }
   ],
   "source": [
    "'''Q10. A study was conducted to determine if the proportion of people who prefer milk chocolate, dark\n",
    "    chocolate, or white chocolate is different in the U.S. versus the U.K. A random sample of 500 people from\n",
    "    the U.S. and a random sample of 500 people from the U.K. were surveyed. The results are shown in the\n",
    "    contingency table below. Conduct a chi-square test for independence to determine if there is a significant\n",
    "    association between chocolate preference and country of origin.  Use a significance level of 0.01.'''\n",
    "\n",
    "import pandas as pd\n",
    "import scipy.stats as stats\n",
    "\n",
    "observed_df = pd.DataFrame({'Milk Chocolate':[200,225], 'Dark Chocolate':[150,175], 'White Chocolate':[150,100]})\n",
    "observed_df.index = ['U.S. (n=500)','U.K. (n=500)']\n",
    "print('Observed Data :')\n",
    "print(observed_df)\n",
    "\n",
    "print('\\n-----------------------------------------------------------------\\n')\n",
    "\n",
    "test_statistic, p_value, dof, expected = stats.chi2_contingency(observed_df)\n",
    "#Chi-square test of independence of variables in a contingency table.\n",
    "expected_df = pd.DataFrame(expected)\n",
    "expected_df.columns = observed_df.columns\n",
    "expected_df.index = observed_df.index\n",
    "print('Expected Data :')\n",
    "print(expected_df)\n",
    "\n",
    "# Print the results\n",
    "print(\"\\nChi-Square Test Statistic: {:.4f}\".format(test_statistic))\n",
    "print(\"P-value: {:.4f}\".format(p_value))\n",
    "\n",
    "sign_val = 0.01\n",
    "# Compare the p-value to the significance level\n",
    "if p_value < sign_val:\n",
    "    print(f\"Reject the null hypothesis.\")\n",
    "else:\n",
    "    print(f\"Fail to reject the null hypothesis. \")"
   ]
  },
  {
   "cell_type": "code",
   "execution_count": null,
   "id": "65141f95-9e01-4981-ad9b-5428c2c989f7",
   "metadata": {},
   "outputs": [],
   "source": [
    "'''Q11. A random sample of 30 people was selected from a population with an unknown mean and standard\n",
    "    deviation. The sample mean was found to be 72 and the sample standard deviation was found to be 10.\n",
    "    Conduct a hypothesis test to determine if the population mean is significantly different from 70. Use a\n",
    "    significance level of 0.05.'''\n",
    "\n",
    "\n",
    "import numpy as np\n",
    "from scipy.stats import chi2\n",
    "\n",
    "sample_mean = 72\n",
    "sample_std = 10\n",
    "sample_size = 30\n",
    "\n",
    "alpha = 0.05\n",
    "df = sample_size - 1\n",
    "\n",
    "expected_mean = 70\n",
    "chi_sq_stat = ((sample_mean - expected_mean)**2)/expected_mean\n",
    "print(f'Chi Square statistic : {chi_sq_stat:.4f}')\n",
    "\n",
    "# Calculate the p-value\n",
    "p_value = 1 - chi2.cdf(chi_sq_stat, df)\n",
    "\n",
    "if p_value < alpha:\n",
    "    print(f\"Reject the null hypothesis.--> (p-value={p_value:.4f})\")\n",
    "else:\n",
    "    print(f\"Fail to reject the null hypothesis. --> (p-value={p_value:.4f})\")\n",
    "Chi Square statistic : 0.057"
   ]
  }
 ],
 "metadata": {
  "kernelspec": {
   "display_name": "Python 3 (ipykernel)",
   "language": "python",
   "name": "python3"
  },
  "language_info": {
   "codemirror_mode": {
    "name": "ipython",
    "version": 3
   },
   "file_extension": ".py",
   "mimetype": "text/x-python",
   "name": "python",
   "nbconvert_exporter": "python",
   "pygments_lexer": "ipython3",
   "version": "3.10.8"
  }
 },
 "nbformat": 4,
 "nbformat_minor": 5
}
