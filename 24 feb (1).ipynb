{
 "cells": [
  {
   "cell_type": "code",
   "execution_count": null,
   "id": "91e5236a-b86d-4096-98c1-e02dc271ae1e",
   "metadata": {},
   "outputs": [],
   "source": [
    "\"\"\"Q1. List any five functions of the pandas library with execution.\"\"\"\n",
    "#Ans\n",
    "\n",
    "Here are five common functions in the pandas library along with their execution examples:\n",
    "\n"
   ]
  },
  {
   "cell_type": "code",
   "execution_count": null,
   "id": "5c1e0545-c16f-45d4-9bcd-1874e37255d9",
   "metadata": {},
   "outputs": [],
   "source": [
    "\"\"\"read_csv(): This function is used to read data from a CSV file and create a DataFrame.\n",
    "python\"\"\"\n",
    "import pandas as pd\n",
    "\n",
    "# Read a CSV file into a DataFrame\n",
    "data = pd.read_csv('data.csv')\n",
    "\n",
    "# Display the first 5 rows of the DataFrame\n",
    "print(data.head())"
   ]
  },
  {
   "cell_type": "code",
   "execution_count": 24,
   "id": "895094ca-1c2c-4489-8d56-dcd2cb9b90a5",
   "metadata": {},
   "outputs": [
    {
     "name": "stdout",
     "output_type": "stream",
     "text": [
      "<class 'pandas.core.frame.DataFrame'>\n",
      "RangeIndex: 3 entries, 0 to 2\n",
      "Data columns (total 3 columns):\n",
      " #   Column  Non-Null Count  Dtype \n",
      "---  ------  --------------  ----- \n",
      " 0   Name    3 non-null      object\n",
      " 1   Age     3 non-null      int64 \n",
      " 2   City    3 non-null      object\n",
      "dtypes: int64(1), object(2)\n",
      "memory usage: 200.0+ bytes\n"
     ]
    }
   ],
   "source": [
    "\"\"\" 2. info(): This function provides a summary of the DataFrame, including the number of non-null values and data types of each column.\n",
    "python\"\"\"\n",
    "import pandas as pd\n",
    "\n",
    "# Create a DataFrame\n",
    "data = pd.DataFrame({'Name': ['John', 'Alice', 'Bob'],\n",
    "                     'Age': [25, 30, 35],\n",
    "                     'City': ['New York', 'Paris', 'London']})\n",
    "\n",
    "# Get information about the DataFrame\n",
    "data.info()\n",
    "\n"
   ]
  },
  {
   "cell_type": "code",
   "execution_count": 6,
   "id": "74d8c82e-89e8-497a-8cac-82abc51177cd",
   "metadata": {},
   "outputs": [
    {
     "data": {
      "text/html": [
       "<div>\n",
       "<style scoped>\n",
       "    .dataframe tbody tr th:only-of-type {\n",
       "        vertical-align: middle;\n",
       "    }\n",
       "\n",
       "    .dataframe tbody tr th {\n",
       "        vertical-align: top;\n",
       "    }\n",
       "\n",
       "    .dataframe thead th {\n",
       "        text-align: right;\n",
       "    }\n",
       "</style>\n",
       "<table border=\"1\" class=\"dataframe\">\n",
       "  <thead>\n",
       "    <tr style=\"text-align: right;\">\n",
       "      <th></th>\n",
       "      <th>Age</th>\n",
       "    </tr>\n",
       "  </thead>\n",
       "  <tbody>\n",
       "    <tr>\n",
       "      <th>count</th>\n",
       "      <td>3.0</td>\n",
       "    </tr>\n",
       "    <tr>\n",
       "      <th>mean</th>\n",
       "      <td>30.0</td>\n",
       "    </tr>\n",
       "    <tr>\n",
       "      <th>std</th>\n",
       "      <td>5.0</td>\n",
       "    </tr>\n",
       "    <tr>\n",
       "      <th>min</th>\n",
       "      <td>25.0</td>\n",
       "    </tr>\n",
       "    <tr>\n",
       "      <th>25%</th>\n",
       "      <td>27.5</td>\n",
       "    </tr>\n",
       "    <tr>\n",
       "      <th>50%</th>\n",
       "      <td>30.0</td>\n",
       "    </tr>\n",
       "    <tr>\n",
       "      <th>75%</th>\n",
       "      <td>32.5</td>\n",
       "    </tr>\n",
       "    <tr>\n",
       "      <th>max</th>\n",
       "      <td>35.0</td>\n",
       "    </tr>\n",
       "  </tbody>\n",
       "</table>\n",
       "</div>"
      ],
      "text/plain": [
       "        Age\n",
       "count   3.0\n",
       "mean   30.0\n",
       "std     5.0\n",
       "min    25.0\n",
       "25%    27.5\n",
       "50%    30.0\n",
       "75%    32.5\n",
       "max    35.0"
      ]
     },
     "execution_count": 6,
     "metadata": {},
     "output_type": "execute_result"
    }
   ],
   "source": [
    "\"\"\" 3.describe(): This function generates descriptive statistics of the DataFrame, such as count, mean,\n",
    "standard deviation, minimum, maximum, and quartiles.\"\"\"\n",
    "\n",
    "import pandas as pd\n",
    "\n",
    "# Create a DataFrame\n",
    "data = pd.DataFrame({'Name': ['John', 'Alice', 'Bob'],\n",
    "                     'Age': [25, 30, 35],\n",
    "                     'City': ['New York', 'Paris', 'London']})\n",
    "\n",
    "# Get information about the DataFrame\n",
    "data.describe()"
   ]
  },
  {
   "cell_type": "code",
   "execution_count": 7,
   "id": "5d364111-609f-4e03-97a6-da2715da8763",
   "metadata": {},
   "outputs": [
    {
     "name": "stdout",
     "output_type": "stream",
     "text": [
      "Name\n",
      "Alice    87.5\n",
      "Bob      75.0\n",
      "John     87.5\n",
      "Name: Score, dtype: float64\n"
     ]
    }
   ],
   "source": [
    "\"\"\" 4. groupby(): This function is used to group data based on one or more columns and perform operations \n",
    "on the groups.\"\"\"\n",
    "import pandas as pd\n",
    "\n",
    "# Create a DataFrame\n",
    "data = pd.DataFrame({'Name': ['John', 'Alice', 'Bob', 'Alice', 'John'],\n",
    "                     'Score': [80, 90, 75, 85, 95]})\n",
    "\n",
    "# Group data by 'Name' and calculate the mean score for each group\n",
    "grouped_data = data.groupby('Name')['Score'].mean()\n",
    "print(grouped_data)\n"
   ]
  },
  {
   "cell_type": "code",
   "execution_count": 8,
   "id": "fb48820c-d9a0-48e8-bfdd-0e43c9b34d19",
   "metadata": {},
   "outputs": [
    {
     "data": {
      "image/png": "[encoded data removed]",
      "text/plain": [
       "<Figure size 640x480 with 1 Axes>"
      ]
     },
     "metadata": {},
     "output_type": "display_data"
    }
   ],
   "source": [
    "\"\"\" 5.plot(): This function is used to create various types of plots, such as line plots, bar plots, and\n",
    "scatter plots, from the data in a DataFrame.\"\"\"\n",
    "import pandas as pd\n",
    "import matplotlib.pyplot as plt\n",
    "\n",
    "# Create a DataFrame\n",
    "data = pd.DataFrame({'Year': [2015, 2016, 2017, 2018],\n",
    "                     'Sales': [100, 150, 120, 200]})\n",
    "\n",
    "# Plot the data as a line plot\n",
    "data.plot(x='Year', y='Sales', kind='line')\n",
    "plt.show()\n"
   ]
  },
  {
   "cell_type": "code",
   "execution_count": 9,
   "id": "019097fd-26f0-4856-b79c-7d019f866a1d",
   "metadata": {},
   "outputs": [
    {
     "name": "stdout",
     "output_type": "stream",
     "text": [
      "    A   B   C\n",
      "1  10  40  70\n",
      "3  20  50  80\n",
      "5  30  60  90\n"
     ]
    }
   ],
   "source": [
    "\"\"\"Q2. Given a Pandas DataFrame df with columns 'A', 'B', and 'C', write a Python function to re-index the\n",
    "DataFrame with a new index that starts from 1 and increments by 2 for each row.\"\"\"\n",
    "#Ans\n",
    "\n",
    "import pandas as pd\n",
    "\n",
    "def reindex_dataframe(df):\n",
    "    new_index = range(1, len(df) * 2, 2)\n",
    "    df_reindexed = df.copy()\n",
    "    df_reindexed.index = new_index\n",
    "    return df_reindexed\n",
    "\n",
    "# Example usage\n",
    "df = pd.DataFrame({'A': [10, 20, 30],\n",
    "                   'B': [40, 50, 60],\n",
    "                   'C': [70, 80, 90]})\n",
    "\n",
    "# Reindex the DataFrame\n",
    "df_reindexed = reindex_dataframe(df)\n",
    "\n",
    "\n",
    "print(df_reindexed)\n"
   ]
  },
  {
   "cell_type": "code",
   "execution_count": 12,
   "id": "004f5874-7640-425d-8e04-de2a90ef0652",
   "metadata": {},
   "outputs": [
    {
     "name": "stdout",
     "output_type": "stream",
     "text": [
      "Sum of the first three values: 60\n"
     ]
    }
   ],
   "source": [
    "\"\"\"Q3. You have a Pandas DataFrame df with a column named 'Values'. Write a Python function that\n",
    "iterates over the DataFrame and calculates the sum of the first three values in the 'Values' column. The\n",
    "function should print the sum to the console.\"\"\"\n",
    "#Ans\n",
    "\n",
    "import pandas as pd\n",
    "\n",
    "def calculate_sum(df):\n",
    "    sum_values = 0\n",
    "    count = 0\n",
    "\n",
    "    for index, row in df.iterrows():\n",
    "        value = row['Values']\n",
    "        sum_values += value\n",
    "        count += 1\n",
    "\n",
    "        if count == 3:\n",
    "            break\n",
    "\n",
    "    print(\"Sum of the first three values:\", sum_values)\n",
    "\n",
    "# Example usage\n",
    "df = pd.DataFrame({'Values': [10, 20, 30, 40, 50]})\n",
    "\n",
    "# Calculate the sum of the first three values\n",
    "calculate_sum(df)\n",
    "\n",
    "\n",
    "\n",
    "\n"
   ]
  },
  {
   "cell_type": "code",
   "execution_count": 13,
   "id": "7a753485-7f8f-46e7-a7f0-42cbcd328494",
   "metadata": {},
   "outputs": [
    {
     "name": "stdout",
     "output_type": "stream",
     "text": [
      "                  Text  Word_Count\n",
      "0  Hello, how are you?           4\n",
      "1    I am doing great!           4\n",
      "2    Python is awesome           3\n"
     ]
    }
   ],
   "source": [
    "\"\"\"Q4. Given a Pandas DataFrame df with a column 'Text', write a Python function to create a new column\n",
    "'Word_Count' that contains the number of words in each row of the 'Text' column.\"\"\"\n",
    "#Ans\n",
    "\n",
    "import pandas as pd\n",
    "\n",
    "def add_word_count(df):\n",
    "    df['Word_Count'] = df['Text'].apply(lambda x: len(str(x).split()))\n",
    "    return df\n",
    "\n",
    "# Example usage\n",
    "df = pd.DataFrame({'Text': ['Hello, how are you?', 'I am doing great!', 'Python is awesome']})\n",
    "\n",
    "# Add the 'Word_Count' column\n",
    "df = add_word_count(df)\n",
    "\n",
    "# Output the DataFrame with the new column\n",
    "print(df)\n"
   ]
  },
  {
   "cell_type": "code",
   "execution_count": null,
   "id": "b7c7a09e-0635-4326-a22b-4c992c8969a3",
   "metadata": {},
   "outputs": [],
   "source": [
    "\"\"\"Q5. How are DataFrame.size() and DataFrame.shape() different?\"\"\"\n",
    "**DataFrame.size():\n",
    "\n",
    "The DataFrame.size() method returns the total number of elements in the DataFrame.\n",
    "It calculates the size by multiplying the number of rows by the number of columns in the DataFrame.\n",
    "The returned value is an integer representing the total count of elements.\n",
    "It does not consider the data type or the actual values stored in the DataFrame.\n",
    "\n",
    "**DataFrame.shape():\n",
    "\n",
    "The DataFrame.shape() attribute returns a tuple representing the dimensions of the DataFrame.\n",
    "It returns the number of rows and columns in the DataFrame.\n",
    "The shape is represented as (number_of_rows, number_of_columns).\n",
    "It provides more detailed information about the structure and layout of the DataFrame.\n",
    "It does not directly give the count of elements; rather, it gives the size of the DataFrame based on the number of rows and columns."
   ]
  },
  {
   "cell_type": "code",
   "execution_count": null,
   "id": "0e6075ce-50e0-4a41-8dda-1dd4036be21d",
   "metadata": {},
   "outputs": [],
   "source": [
    "\"\"\"Q6. Which function of pandas do we use to read an excel file?\"\"\"\n",
    "To read an Excel file in pandas, you can use the pandas.read_excel() function. This function \n",
    "allows you to read data from Excel files and create a DataFrame"
   ]
  },
  {
   "cell_type": "code",
   "execution_count": 14,
   "id": "f7e7fecf-876f-4e39-b32e-0e30e4ca671e",
   "metadata": {},
   "outputs": [
    {
     "name": "stdout",
     "output_type": "stream",
     "text": [
      "               Email Username\n",
      "0   john@example.com     john\n",
      "1  alice@example.com    alice\n",
      "2    bob@example.com      bob\n"
     ]
    }
   ],
   "source": [
    "\"\"\"Q7. You have a Pandas DataFrame df that contains a column named 'Email' that contains email\n",
    "addresses in the format 'username@domain.com'. Write a Python function that creates a new column\n",
    "'Username' in df that contains only the username part of each email address.\"\"\"\n",
    "#Ans\n",
    "import pandas as pd\n",
    "\n",
    "def extract_username(df):\n",
    "    df['Username'] = df['Email'].str.split('@').str[0]\n",
    "    return df\n",
    "\n",
    "# Example usage\n",
    "df = pd.DataFrame({'Email': ['john@example.com', 'alice@example.com', 'bob@example.com']})\n",
    "\n",
    "# Extract the 'Username' from the 'Email' column\n",
    "df = extract_username(df)\n",
    "\n",
    "# Output the DataFrame with the new column\n",
    "print(df)\n"
   ]
  },
  {
   "cell_type": "code",
   "execution_count": 15,
   "id": "f03f45f6-25cc-42c5-b988-7bb1cdad4e1c",
   "metadata": {},
   "outputs": [
    {
     "name": "stdout",
     "output_type": "stream",
     "text": [
      "   A  B   C\n",
      "1  7  5  20\n",
      "3  9  8  30\n",
      "4  6  2  35\n"
     ]
    }
   ],
   "source": [
    "\"\"\"Q8. You have a Pandas DataFrame df with columns 'A', 'B', and 'C'. Write a Python function that selects\n",
    "all rows where the value in column 'A' is greater than 5 and the value in column 'B' is less than 10. The\n",
    "function should return a new DataFrame that contains only the selected rows.\"\"\"\n",
    "#Ans\n",
    "import pandas as pd\n",
    "\n",
    "def select_rows(df):\n",
    "    selected_df = df[(df['A'] > 5) & (df['B'] < 10)]\n",
    "    return selected_df\n",
    "\n",
    "# Example usage\n",
    "df = pd.DataFrame({'A': [4, 7, 2, 9, 6],\n",
    "                   'B': [10, 5, 3, 8, 2],\n",
    "                   'C': [15, 20, 25, 30, 35]})\n",
    "\n",
    "# Select rows based on conditions\n",
    "selected_rows = select_rows(df)\n",
    "\n",
    "# Output the new DataFrame with selected rows\n",
    "print(selected_rows)\n"
   ]
  },
  {
   "cell_type": "code",
   "execution_count": 16,
   "id": "01ed836a-e75a-4519-b69d-711e34299cd0",
   "metadata": {},
   "outputs": [
    {
     "name": "stdout",
     "output_type": "stream",
     "text": [
      "Mean: 3.0\n",
      "Median: 3.0\n",
      "Standard Deviation: 1.5811388300841898\n"
     ]
    }
   ],
   "source": [
    "\"\"\"Q9. Given a Pandas DataFrame df with a column 'Values', write a Python function to calculate the mean,\n",
    "median, and standard deviation of the values in the 'Values' column.\"\"\"\n",
    "import pandas as pd\n",
    "\n",
    "def calculate_statistics(df):\n",
    "    mean = df['Values'].mean()\n",
    "    median = df['Values'].median()\n",
    "    std_dev = df['Values'].std()\n",
    "    return mean, median, std_dev\n",
    "# Example DataFrame\n",
    "df = pd.DataFrame({'Values': [1, 2, 3, 4, 5]})\n",
    "\n",
    "# Calculate statistics\n",
    "mean, median, std_dev = calculate_statistics(df)\n",
    "\n",
    "# Print the results\n",
    "print(\"Mean:\", mean)\n",
    "print(\"Median:\", median)\n",
    "print(\"Standard Deviation:\", std_dev)\n"
   ]
  },
  {
   "cell_type": "code",
   "execution_count": 17,
   "id": "e858165e-be5a-4ed6-9c72-44d498399101",
   "metadata": {},
   "outputs": [
    {
     "name": "stdout",
     "output_type": "stream",
     "text": [
      "        Date  Sales  MovingAverage\n",
      "0 2023-06-01     10           10.0\n",
      "1 2023-06-02     15           12.5\n",
      "2 2023-06-03     20           15.0\n",
      "3 2023-06-04     25           17.5\n",
      "4 2023-06-05     30           20.0\n",
      "5 2023-06-06     35           22.5\n",
      "6 2023-06-07     40           25.0\n",
      "7 2023-06-08     45           30.0\n",
      "8 2023-06-09     50           35.0\n",
      "9 2023-06-10     55           40.0\n"
     ]
    }
   ],
   "source": [
    "\"\"\"Q10. Given a Pandas DataFrame df with a column 'Sales' and a column 'Date', write a Python function to\n",
    "create a new column 'MovingAverage' that contains the moving average of the sales for the past 7 days\n",
    "for each row in the DataFrame. The moving average should be calculated using a window of size 7 and\n",
    "should include the current day.\"\"\"\n",
    "import pandas as pd\n",
    "\n",
    "def calculate_moving_average(df):\n",
    "    df['MovingAverage'] = df['Sales'].rolling(window=7, min_periods=1).mean()\n",
    "    return df\n",
    "# Example DataFrame\n",
    "df = pd.DataFrame({'Date': pd.date_range(start='2023-06-01', periods=10),\n",
    "                   'Sales': [10, 15, 20, 25, 30, 35, 40, 45, 50, 55]})\n",
    "\n",
    "# Calculate moving average\n",
    "df = calculate_moving_average(df)\n",
    "\n",
    "# Print the DataFrame\n",
    "print(df)\n"
   ]
  },
  {
   "cell_type": "code",
   "execution_count": 18,
   "id": "5df13683-97c0-43d8-882b-1fd0f3f755f7",
   "metadata": {},
   "outputs": [
    {
     "data": {
      "text/html": [
       "<div>\n",
       "<style scoped>\n",
       "    .dataframe tbody tr th:only-of-type {\n",
       "        vertical-align: middle;\n",
       "    }\n",
       "\n",
       "    .dataframe tbody tr th {\n",
       "        vertical-align: top;\n",
       "    }\n",
       "\n",
       "    .dataframe thead th {\n",
       "        text-align: right;\n",
       "    }\n",
       "</style>\n",
       "<table border=\"1\" class=\"dataframe\">\n",
       "  <thead>\n",
       "    <tr style=\"text-align: right;\">\n",
       "      <th></th>\n",
       "      <th>Date</th>\n",
       "      <th>Weekday</th>\n",
       "    </tr>\n",
       "  </thead>\n",
       "  <tbody>\n",
       "    <tr>\n",
       "      <th>0</th>\n",
       "      <td>2023-01-01</td>\n",
       "      <td>Sunday</td>\n",
       "    </tr>\n",
       "    <tr>\n",
       "      <th>1</th>\n",
       "      <td>2023-01-02</td>\n",
       "      <td>Monday</td>\n",
       "    </tr>\n",
       "    <tr>\n",
       "      <th>2</th>\n",
       "      <td>2023-01-03</td>\n",
       "      <td>Tuesday</td>\n",
       "    </tr>\n",
       "    <tr>\n",
       "      <th>3</th>\n",
       "      <td>2023-01-04</td>\n",
       "      <td>Wednesday</td>\n",
       "    </tr>\n",
       "    <tr>\n",
       "      <th>4</th>\n",
       "      <td>2023-01-05</td>\n",
       "      <td>Thursday</td>\n",
       "    </tr>\n",
       "  </tbody>\n",
       "</table>\n",
       "</div>"
      ],
      "text/plain": [
       "        Date    Weekday\n",
       "0 2023-01-01     Sunday\n",
       "1 2023-01-02     Monday\n",
       "2 2023-01-03    Tuesday\n",
       "3 2023-01-04  Wednesday\n",
       "4 2023-01-05   Thursday"
      ]
     },
     "execution_count": 18,
     "metadata": {},
     "output_type": "execute_result"
    }
   ],
   "source": [
    "\"\"\"Q11. You have a Pandas DataFrame df with a column 'Date'. Write a Python function that creates a new\n",
    "column 'Weekday' in the DataFrame. The 'Weekday' column should contain the weekday name (e.g.\n",
    "Monday, Tuesday) corresponding to each date in the 'Date' column.\n",
    "For example, if df contains the following values:\n",
    "  Date\n",
    "0 2023-01-01\n",
    "1 2023-01-02\n",
    "2 2023-01-03\n",
    "3 2023-01-04\n",
    "4 2023-01-05\n",
    "Your function should create the following DataFrame:\n",
    "\n",
    "  Date       Weekday\n",
    "0 2023-01-01 Sunday\n",
    "1 2023-01-02 Monday\n",
    "2 2023-01-03 Tuesday\n",
    "3 2023-01-04 Wednesday\n",
    "4 2023-01-05 Thursday\n",
    "The function should return the modified DataFrame.\"\"\"\n",
    "\n",
    "import pandas as pd\n",
    "df = pd.DataFrame({'Date':['2023-01-01','2023-01-02','2023-01-03','2023-01-04','2023-01-05']})\n",
    "\n",
    "def weekday_fun(df):\n",
    "    df['Date']=pd.to_datetime(df['Date'])\n",
    "    df['Weekday'] = df['Date'].dt.day_name()\n",
    "    return df\n",
    "weekday_fun(df)\n",
    "df"
   ]
  },
  {
   "cell_type": "code",
   "execution_count": 19,
   "id": "a87d12bc-3932-48ed-a896-db25c04dd0b7",
   "metadata": {},
   "outputs": [
    {
     "data": {
      "text/html": [
       "<div>\n",
       "<style scoped>\n",
       "    .dataframe tbody tr th:only-of-type {\n",
       "        vertical-align: middle;\n",
       "    }\n",
       "\n",
       "    .dataframe tbody tr th {\n",
       "        vertical-align: top;\n",
       "    }\n",
       "\n",
       "    .dataframe thead th {\n",
       "        text-align: right;\n",
       "    }\n",
       "</style>\n",
       "<table border=\"1\" class=\"dataframe\">\n",
       "  <thead>\n",
       "    <tr style=\"text-align: right;\">\n",
       "      <th></th>\n",
       "      <th>Date</th>\n",
       "    </tr>\n",
       "  </thead>\n",
       "  <tbody>\n",
       "    <tr>\n",
       "      <th>0</th>\n",
       "      <td>2023-01-01</td>\n",
       "    </tr>\n",
       "    <tr>\n",
       "      <th>1</th>\n",
       "      <td>2023-01-07</td>\n",
       "    </tr>\n",
       "    <tr>\n",
       "      <th>3</th>\n",
       "      <td>2023-01-16</td>\n",
       "    </tr>\n",
       "    <tr>\n",
       "      <th>5</th>\n",
       "      <td>2023-01-26</td>\n",
       "    </tr>\n",
       "  </tbody>\n",
       "</table>\n",
       "</div>"
      ],
      "text/plain": [
       "         Date\n",
       "0  2023-01-01\n",
       "1  2023-01-07\n",
       "3  2023-01-16\n",
       "5  2023-01-26"
      ]
     },
     "execution_count": 19,
     "metadata": {},
     "output_type": "execute_result"
    }
   ],
   "source": [
    "\"\"\"Q12. Given a Pandas DataFrame df with a column 'Date' that contains timestamps, write a Python\n",
    "        function to select all rows where the date is between '2023-01-01' and '2023-01-31'.\"\"\"\n",
    "\n",
    "import pandas as pd\n",
    "df = pd.DataFrame({'Date':\n",
    "                   ['2023-01-01','2023-01-07','2023-03-01','2023-01-16','2024-01-01','2023-01-26','2023-03-27']})\n",
    "df[(df['Date'] >= '2023-01-01') & (df['Date'] <= '2023-01-31')]"
   ]
  },
  {
   "cell_type": "code",
   "execution_count": null,
   "id": "4ca1f1f1-1519-4250-ad0d-38db899fb773",
   "metadata": {},
   "outputs": [],
   "source": [
    "\"\"\"Q13. To use the basic functions of pandas, what is the first and foremost necessary library that needs to\n",
    "        be imported?\"\"\"\n",
    "\n",
    "import pandas as pd\n",
    "\n",
    " * the pandas library, you gain access to all the functions and data structures provided by pandas,\n",
    "    allowing you to work with DataFrames, Series, and perform various data manipulation and analysis operations."
   ]
  }
 ],
 "metadata": {
  "kernelspec": {
   "display_name": "Python 3 (ipykernel)",
   "language": "python",
   "name": "python3"
  },
  "language_info": {
   "codemirror_mode": {
    "name": "ipython",
    "version": 3
   },
   "file_extension": ".py",
   "mimetype": "text/x-python",
   "name": "python",
   "nbconvert_exporter": "python",
   "pygments_lexer": "ipython3",
   "version": "3.10.8"
  }
 },
 "nbformat": 4,
 "nbformat_minor": 5
}
