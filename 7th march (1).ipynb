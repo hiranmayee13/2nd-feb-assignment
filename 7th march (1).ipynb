{
 "cells": [
  {
   "cell_type": "code",
   "execution_count": null,
   "id": "0c144845-d221-41b1-a832-228b63f60456",
   "metadata": {},
   "outputs": [],
   "source": [
    "\"\"\"Q1. What are the three measures of central tendency\"\"\"\n",
    "Ans\n",
    " Mean , Median , Mode"
   ]
  },
  {
   "cell_type": "code",
   "execution_count": null,
   "id": "d5b02764-73c1-4fb6-b3c1-ad26839cac4e",
   "metadata": {},
   "outputs": [],
   "source": [
    "\"\"\"Q2. What is the difference between the mean, median, and mode? How are they used to measure the  central \n",
    "tendency of a dataset? \"\"\"\n",
    "Ans\n",
    "mean is the average value of a set of numbers.It is calculated by adding up all values in the dataset and \n",
    "dividing by the total number of the values.It is sensitive to the outliers\n",
    "The median is the middle value in a dataset. To find the median, you first need to sort the values in the\n",
    "dataset from lowest to highest. If there is an odd number of values, the median is the middle value. If \n",
    "there is an even number of values, the median is the average of the two middle values. The median is less \n",
    "sensitive to outliers than the mean because it is only affected by the values in the middle of the dataset\n",
    "The mode is the most common value in a dataset. It is the value that appears most frequently in the dataset\n",
    "The mean is commonly used when the data is normally distributed and there are no  outliers. The median is\n",
    "used when the data is skewed or there are outliers that may impact the mean. The mode is useful to find out \n",
    "the most frequent value.\n"
   ]
  },
  {
   "cell_type": "code",
   "execution_count": null,
   "id": "09a055fb-6e3e-4c70-b2c4-b932763e64da",
   "metadata": {},
   "outputs": [],
   "source": [
    "\"\"\"Q3. Measure the three measures of central tendency for the given height data:\n",
    "[178,177,176,177,178.2,178,175,179,180,175,178.9,176.2,177,172.5,178,176.5]\"\"\""
   ]
  },
  {
   "cell_type": "code",
   "execution_count": 1,
   "id": "b4a14d67-83de-467c-98d5-08653e3afca1",
   "metadata": {},
   "outputs": [
    {
     "name": "stdout",
     "output_type": "stream",
     "text": [
      "177.01875\n",
      "177.0\n",
      "ModeResult(mode=array([177.]), count=array([3]))\n"
     ]
    },
    {
     "name": "stderr",
     "output_type": "stream",
     "text": [
      "/tmp/ipykernel_117/1397594314.py:6: FutureWarning: Unlike other reduction functions (e.g. `skew`, `kurtosis`), the default behavior of `mode` typically preserves the axis it acts along. In SciPy 1.11.0, this behavior will change: the default value of `keepdims` will become False, the `axis` over which the statistic is taken will be eliminated, and the value None will no longer be accepted. Set `keepdims` to True or False to avoid this warning.\n",
      "  print(stats.mode(l))\n"
     ]
    }
   ],
   "source": [
    "l= [178,177,176,177,178.2,178,175,179,180,175,178.9,176.2,177,172.5,178,176.5] \n",
    "import numpy as np\n",
    "print(np.mean(l))\n",
    "print(np.median(l))\n",
    "from scipy import stats\n",
    "print(stats.mode(l))"
   ]
  },
  {
   "cell_type": "code",
   "execution_count": null,
   "id": "d89ab8b6-771f-4f8c-bb76-b0fcc37be3a1",
   "metadata": {},
   "outputs": [],
   "source": [
    "\"\"\"Q4. Find the standard deviation for the given data:\n",
    "[178,177,176,177,178.2,178,175,179,180,175,178.9,176.2,177,172.5,178,176.5]\"\"\""
   ]
  },
  {
   "cell_type": "code",
   "execution_count": 3,
   "id": "9b1ddee7-1e45-4ca1-a3fc-fdfee9dac079",
   "metadata": {},
   "outputs": [
    {
     "data": {
      "text/plain": [
       "1.7885814036548633"
      ]
     },
     "execution_count": 3,
     "metadata": {},
     "output_type": "execute_result"
    }
   ],
   "source": [
    "l=[178,177,176,177,178.2,178,175,179,180,175,178.9,176.2,177,172.5,178,176.5]\n",
    "import numpy as np\n",
    "np.std(l)"
   ]
  },
  {
   "cell_type": "code",
   "execution_count": null,
   "id": "be6eb495-0dae-44ab-a7d7-8ce0f3cabf43",
   "metadata": {},
   "outputs": [
    {
     "data": {
      "text/plain": [
       "'The range is the difference between the largest and smallest values in a dataset and sensitive to outliers\\nThe variance is a measure of how much the data points deviate from the mean of the datasetA higher variance indicates that the data points are more spread out from the mean, while a lower variance indicates that the data points are clustered around the mean\\nThe standard deviation is the square root of the variance . A higher standard deviation indicates that the data points are more spread out from the mean, while a lower standard deviation indicates that the data points are clustered around the mean.\\nFor example, consider a dataset of test scores for a class of 10 students:\\n\\n87, 93, 75, 82, 89, 91, 76, 85, 88, 90\\n\\nrange =93-75=18\\nvariance=28.696\\nstandard deviation=5.36'"
      ]
     },
     "execution_count": 14,
     "metadata": {},
     "output_type": "execute_result"
    }
   ],
   "source": [
    "\"\"\"Q5. How are measures of dispersion such as range, variance, and standard deviation used to describe  the spread of a dataset? Provide an example. \n",
    "\"\"\"\n",
    "\"\"\"The range is the difference between the largest and smallest values in a dataset and sensitive to outliers\n",
    "The variance is a measure of how much the data points deviate from the mean of the datasetA higher variance indicates that the data points are more spread out from the mean, while a lower variance indicates that the data points are clustered around the mean\n",
    "The standard deviation is the square root of the variance . A higher standard deviation indicates that the data points are more spread out from the mean, while a lower standard deviation indicates that the data points are clustered around the mean.\n",
    "For example, consider a dataset of test scores for a class of 10 students:\n",
    "\n",
    "87, 93, 75, 82, 89, 91, 76, 85, 88, 90\n",
    "\n",
    "range =93-75=18\n",
    "variance=28.696\n",
    "standard deviation=5.36\"\"\""
   ]
  },
  {
   "cell_type": "code",
   "execution_count": 15,
   "id": "3aa1815f-8063-4d8d-8561-ed2ef67a62d8",
   "metadata": {},
   "outputs": [
    {
     "data": {
      "text/plain": [
       "'Q6. What is a Venn diagram?'"
      ]
     },
     "execution_count": 15,
     "metadata": {},
     "output_type": "execute_result"
    }
   ],
   "source": [
    "\"\"\"Q6. What is a Venn diagram?\"\"\"\n",
    "#A Venn diagram is a graphical representation of the relationships between different sets of objects or data"
   ]
  },
  {
   "cell_type": "code",
   "execution_count": 7,
   "id": "55700b53-fb70-4147-8ca1-0b637b484a33",
   "metadata": {},
   "outputs": [
    {
     "name": "stdout",
     "output_type": "stream",
     "text": [
      "union= {0, 2, 3, 4, 5, 6, 7, 8, 10}\n",
      "intersection= {2, 6}\n"
     ]
    }
   ],
   "source": [
    "\"\"\"Q7. For the two given sets A = (2,3,4,5,6,7) & B = (0,2,6,8,10). Find: \n",
    "(i)  A B \n",
    "(ii) A ⋃ B\n",
    "\"\"\"\n",
    "#(i)=((2,0),(2,2),(2,6),(2,8),(2,10),(3,0),(3,2),(3,6),(3,8),(3,10),(4,0),(4,2),(4,6),(4,8),(4,10),(5,0),(5,2),(5,6),(5,8),(5,10),(6,0),(6,2),(6,6),(6,8),(6,10),(7,0),(7,2),(7,6),(7,8),(7,10))\n",
    "\n",
    "#(ii)=(0,2,3,4,5,6,7,8,10)\n",
    "a={2,3,4,5,6,7}\n",
    "b={0,2,6,8,10}\n",
    "inter=a.intersection(b)\n",
    "union=a.union(b)\n",
    "print(\"union=\",union)\n",
    "print(\"intersection=\",inter)"
   ]
  },
  {
   "cell_type": "code",
   "execution_count": null,
   "id": "7e990db9-d6ce-4c0c-af7e-fefcce92e9e1",
   "metadata": {},
   "outputs": [],
   "source": [
    "\"\"\"Q8. What do you understand about skewness in data? \"\"\"\n",
    "\n",
    "Skewness describes how much statistical data distribution is asymmetrical from the normal distribution, \n",
    "where distribution is equally divided on each side. If a distribution is not symmetrical or normal, it is skewed"
   ]
  },
  {
   "cell_type": "code",
   "execution_count": null,
   "id": "b645bdcb-534d-4256-80d5-39c863c4b4f4",
   "metadata": {},
   "outputs": [],
   "source": [
    "\"\"\"Q9. If a data is right skewed then what will be the position of median with respect to mean? \"\"\"\n",
    "  mean has greater value than the median"
   ]
  },
  {
   "cell_type": "code",
   "execution_count": null,
   "id": "f333e2a7-4a90-492f-8e2a-ae481a074930",
   "metadata": {},
   "outputs": [],
   "source": [
    "'''Q10. Explain the difference between covariance and correlation. How are these measures used in  statistical analysis? '''\n",
    "\n",
    "Ans.\n",
    "Covariance:\n",
    "    Covariance measures the direction and magnitude of the linear relationship between two variables.\n",
    "    It indicates how changes in one variable are associated with changes in another variable.\n",
    "    The sign of the covariance (+/-) indicates the direction of the relationship (positive or negative),\n",
    "    while the magnitude indicates the strength of the relationship.\n",
    "    However, covariance alone does not provide a standardized measure and its value is influenced by the scales of the variables. \n",
    "    Covariance can be calculated using the following formula:\n",
    "          \" | * cov(X, Y) = Σ((Xᵢ - X̄)(Yᵢ - Ȳ)) / (n - 1) \"\n",
    "        where X and Y are variables,\n",
    "                Xᵢ and Yᵢ are the individual values of X and Y,\n",
    "            X̄ and Ȳ are the means of X and Y, and n is the number of data points.\n",
    "            \n",
    "Correlation:\n",
    "    Correlation measures the strength and direction of the linear relationship between two variables, similar to covariance.\n",
    "    However, correlation also provides a standardized measure that ranges between -1 and 1, regardless of the scales of the \n",
    "    variables. A correlation coefficient of -1 indicates a perfect negative relationship, 1 indicates a perfect positive \n",
    "    relationship, and 0 indicates no linear relationship. Correlation is calculated by dividing the covariance by the product\n",
    "    of the standard deviations of the variables.\n",
    "    The formula for correlation (specifically Pearson correlation coefficient)  is as follows:\n",
    "            \" * ρ(X, Y) = cov(X, Y) / (σ(X) * σ(Y)) \"\n",
    "        where ρ represents the correlation coefficient,\n",
    "        cov(X, Y) is the covariance between X and Y,\n",
    "        σ(X) is the standard deviation of X, and σ(Y) is the standard deviation of Y\n",
    "        In statistical analysis, covariance and correlation are used to examine the relationship between variables.\n",
    "Covariance helps identify whether two variables move together or in opposite directions, but it does not provide a \n",
    "standardized measure for easy interpretation. Correlation, on the other hand, provides a standardized measure that \n",
    "facilitates comparison and interpretation of the strength and direction of the relationship. Correlation coefficients\n",
    "are commonly used in regression analysis, hypothesis testing, and determining the strength of associations in various \n",
    "fields, such as social sciences, economics, and data analysis."
   ]
  },
  {
   "cell_type": "code",
   "execution_count": null,
   "id": "1ba2957c-23b8-4a98-8455-88b01ed71b76",
   "metadata": {},
   "outputs": [],
   "source": [
    "'''Q11. What is the formula for calculating the sample mean? Provide an example calculation for a  dataset. '''\n",
    "\n",
    "Ans.\n",
    "    sample mean = (sum of all values) / (total number of values)\n",
    "    \n",
    "    [78, 85, 92, 90, 80]\n",
    "    \n",
    "    Step 1: Add up all the values in the dataset:\n",
    "                78 + 85 + 92 + 90 + 80 = 425\n",
    "            \n",
    "    Step 2: Determine the total number of values in the dataset, which is 5 in this case.\n",
    "    \n",
    "    Step 3: Apply the formula to calculate the sample mean:\n",
    "        sample mean = (sum of all values) / (total number of values)\n",
    "        sample mean = 425 / 5 = 85"
   ]
  },
  {
   "cell_type": "code",
   "execution_count": null,
   "id": "39ddeab4-a53d-4448-8a5e-d71b20b4a09a",
   "metadata": {},
   "outputs": [],
   "source": [
    "'''Q12. For a normal distribution data what is the relationship between its measure of central tendency?'''\n",
    "\n",
    "Ans.\n",
    "    For a normal distribution, the three measures of central tendency (mean, median, and mode) are all equal. \n",
    "    This is because a normal distribution is symmetric around the mean, so the median (which is the middle value when the data\n",
    "    is arranged in order) is also the mean. Additionally, the mode (which is the most frequent value in the distribution)\n",
    "    is also equal to the mean and median in a normal distribution.\n",
    "    \n",
    "    Therefore, in a normal distribution, the mean, median, and mode are all the same value and represent the center of \n",
    "    the distribution. This makes the mean a reliable measure of central tendency for normal data."
   ]
  },
  {
   "cell_type": "code",
   "execution_count": null,
   "id": "df6b505e-f76c-4720-ad25-4ea31a818cd5",
   "metadata": {},
   "outputs": [],
   "source": [
    "'''Q13. How is covariance different from correlation? '''\n",
    "\n",
    "Ans.\n",
    "    Covariance\tMeasures the extent to which two variables vary together  [ (- infinite ) to (+ infinite)].\n",
    "    Correlation\tMeasures the strength of the linear relationship between two variables on a standardized scale [-1 to +1].\n",
    "    \n",
    "  covariance measures the direction and magnitude of the linear relationship between variables,while correlation provides\n",
    "    a standardized measure that ranges between -1 and 1, representing the strength and direction of the relationship.\n",
    "  Correlation is more interpretable, comparable, and reliable than covariance when assessing the relationship between \n",
    "    variables. \n"
   ]
  },
  {
   "cell_type": "code",
   "execution_count": null,
   "id": "73641850-2f51-49be-94e1-cccfd52925f1",
   "metadata": {},
   "outputs": [],
   "source": [
    "'''Q14. How do outliers affect measures of central tendency and dispersion? Provide an example. '''\n",
    "\n",
    "Ans.\n",
    "    outliers can distort measures of central tendency, such as the mean, while measures like the median and mode are more\n",
    "    resistant to their influence. Outliers also impact measures of dispersion, including the range, variance, and standard \n",
    "    deviation, by increasing the spread and variability of the dataset. It is important to consider the presence of outliers\n",
    "    and their potential influence when interpreting.\n",
    "    \n",
    "     '''company: $30,000, $35,000, $40,000, $45,000, and $1,000,000.'''\n",
    "        The outlier value of $1,000,000 .\n",
    "    Mean:\n",
    "        The mean is sensitive to outliers. In this case,\n",
    "        the mean salary is ($30,000 + $35,000 + $40,000 + $45,000 + $1,000,000)/ 5 = $230,000. \n",
    "        The presence of the outlier salary of $1,000,000 substantially inflates the mean\n",
    "        \n",
    "    Median:\n",
    "        The median is resistant to outliers. When the salaries are arranged in ascending order,\n",
    "        the middle value is $40,000. The outlier value of $1,000,000 does not affect the position of the middle value,\n",
    "        \n",
    "    Mode: \n",
    "        The mode is not affected by outliers. In this dataset, there is no repeated value, so there is no mode. \n",
    "        However, even if there were repeated values, the outlier would not impact the mode, as it is solely determined by the\n",
    "        most frequent value(s)."
   ]
  }
 ],
 "metadata": {
  "kernelspec": {
   "display_name": "Python 3 (ipykernel)",
   "language": "python",
   "name": "python3"
  },
  "language_info": {
   "codemirror_mode": {
    "name": "ipython",
    "version": 3
   },
   "file_extension": ".py",
   "mimetype": "text/x-python",
   "name": "python",
   "nbconvert_exporter": "python",
   "pygments_lexer": "ipython3",
   "version": "3.10.8"
  }
 },
 "nbformat": 4,
 "nbformat_minor": 5
}
