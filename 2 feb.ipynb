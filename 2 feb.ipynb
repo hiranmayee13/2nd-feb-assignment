{
 "cells": [
  {
   "cell_type": "code",
   "execution_count": null,
   "id": "5d97db8b-bc5a-4a4d-b5e5-dccceca69ebd",
   "metadata": {},
   "outputs": [],
   "source": [
    "\"\"\"Q1. Explain with an example each when to use a for loop and a while loop.\"\"\"\n",
    "# For loop is used when you know ahead of time how many times you want to execute a block of code\n",
    "int=[1,2,3,4,5]\n",
    "for i in int:\n",
    "    print(i)"
   ]
  },
  {
   "cell_type": "code",
   "execution_count": 2,
   "id": "4468bb9b-8df2-4fef-815d-94430bfa50f7",
   "metadata": {},
   "outputs": [
    {
     "name": "stdin",
     "output_type": "stream",
     "text": [
      "enter the number g\n"
     ]
    },
    {
     "name": "stdout",
     "output_type": "stream",
     "text": [
      "not a integer\n"
     ]
    },
    {
     "name": "stdin",
     "output_type": "stream",
     "text": [
      "enter the number g\n"
     ]
    },
    {
     "name": "stdout",
     "output_type": "stream",
     "text": [
      "not a integer\n"
     ]
    },
    {
     "name": "stdin",
     "output_type": "stream",
     "text": [
      "enter the number 9\n"
     ]
    },
    {
     "name": "stdout",
     "output_type": "stream",
     "text": [
      "integer\n"
     ]
    }
   ],
   "source": [
    "# while loop is used when u don't know ahead of time how many times you want to execute a block of code\n",
    "while True:\n",
    "    i=input(\"enter the number\")\n",
    "    if (i.isdigit()):\n",
    "        print(\"integer\")\n",
    "        break\n",
    "    else:\n",
    "        print(\"not a integer\")"
   ]
  },
  {
   "cell_type": "code",
   "execution_count": 3,
   "id": "66b41aec-b7a5-4419-8d63-faa8bd42e3bb",
   "metadata": {},
   "outputs": [
    {
     "name": "stdout",
     "output_type": "stream",
     "text": [
      "sum = 55\n",
      "product = 3628800\n"
     ]
    }
   ],
   "source": [
    "\"\"\"Q2. Write a python program to print the sum and product of the first 10 natural numbers using for\n",
    "and while loop.\"\"\"\n",
    "sum=0\n",
    "product=1\n",
    "ele=[i for i in range(1,11)]\n",
    "for j in ele:\n",
    "    sum=sum+j\n",
    "    product=product*j\n",
    "print(\"sum =\",sum)\n",
    "print(\"product =\",product)\n"
   ]
  },
  {
   "cell_type": "code",
   "execution_count": 1,
   "id": "255faaf7-3c58-423e-9afe-cba127994334",
   "metadata": {},
   "outputs": [
    {
     "name": "stdout",
     "output_type": "stream",
     "text": [
      "sum = 55\n",
      "product = 3628800\n"
     ]
    }
   ],
   "source": [
    "sum=0\n",
    "product=1\n",
    "a=1\n",
    "while a<11:\n",
    "    sum=sum+a\n",
    "    product=product*a\n",
    "    a=a+1\n",
    "print(\"sum =\",sum)\n",
    "print(\"product =\",product)\n"
   ]
  },
  {
   "cell_type": "code",
   "execution_count": 14,
   "id": "448662cb-cd00-4efc-b014-3a50687b5f7e",
   "metadata": {},
   "outputs": [
    {
     "name": "stdin",
     "output_type": "stream",
     "text": [
      "enter the number of units 200\n"
     ]
    },
    {
     "name": "stdout",
     "output_type": "stream",
     "text": [
      "total bill = 1050.0\n"
     ]
    }
   ],
   "source": [
    "\"\"\"Q3. Create a python program to compute the electricity bill for a household.\n",
    "\n",
    "The per-unit charges in rupees are as follows: For the first 100 units, the user will be charged Rs. 4.5 per\n",
    "unit, for the next 100 units, the user will be charged Rs. 6 per unit, and for the next 100 units, the user will\n",
    "be charged Rs. 10 per unit, After 300 units and above the user will be charged Rs. 20 per unit.\n",
    "You are required to take the units of electricity consumed in a month from the user as input.\n",
    "Your program must pass this test case: when the unit of electricity consumed by the user in a month is\n",
    "310, the total electricity bill should be 2250.\"\"\"\n",
    "\n",
    "unit=int(input(\"enter the number of units\"))\n",
    "bill=0.0\n",
    "if unit<=100:\n",
    "    bill=unit*4.5\n",
    "elif unit>100 and unit<=200:\n",
    "    bill=(100*4.5)+(unit-100)*6\n",
    "elif unit>200 and unit<=300:\n",
    "    bill=(100*4.5)+(100*6)+(unit-200)*10\n",
    "else:\n",
    "    bill=(100*4.5)+(100*6)+(100*10)+((unit-300)*20)\n",
    "print(\"total bill =\",bill)\n"
   ]
  },
  {
   "cell_type": "code",
   "execution_count": 18,
   "id": "982f4055-343c-49dd-9739-23a0d31a78a8",
   "metadata": {},
   "outputs": [
    {
     "name": "stdout",
     "output_type": "stream",
     "text": [
      "[2, 4, 5, 6, 8, 10, 12, 14, 15, 16, 18, 20, 22, 24, 25, 26, 28, 30, 32, 34, 35, 36, 38, 40, 42, 44, 45, 46, 48, 50, 52, 54, 55, 56, 58, 60, 62, 64, 65, 66, 68, 70, 72, 74, 75, 76, 78, 80, 82, 84, 85, 86, 88, 90, 92, 94, 95, 96, 98, 100]\n"
     ]
    }
   ],
   "source": [
    "\"\"\"Q4. Create a list of numbers from 1 to 100. Use for loop and while loop to calculate the cube of each\n",
    "number and if the cube of that number is divisible by 4 or 5 then append that number in a list and print\n",
    "that list.\"\"\"\n",
    "l1=[]\n",
    "l=[i for i in range(1,101)]\n",
    "for j in l:\n",
    "    cube=j**3\n",
    "    if cube%4==0 or cube%5==0:\n",
    "     l1.append(j)\n",
    "print(l1)\n",
    "    \n"
   ]
  },
  {
   "cell_type": "code",
   "execution_count": null,
   "id": "a12bcc78-a6b9-4a83-9ade-8ad919baf89d",
   "metadata": {},
   "outputs": [],
   "source": [
    "l1=[]\n",
    "i=1\n",
    "while i<100:\n",
    "    cube=i**3\n",
    "    if cube%4==0 or cube%5==0:\n",
    "     l1.append(j)\n",
    "print(l1)\n",
    "    "
   ]
  },
  {
   "cell_type": "code",
   "execution_count": 1,
   "id": "35bbb66f-b280-4103-af1a-a107186517b1",
   "metadata": {},
   "outputs": [
    {
     "name": "stdout",
     "output_type": "stream",
     "text": [
      "count = 12\n"
     ]
    }
   ],
   "source": [
    "\"\"\"Q5. Write a program to filter count vowels in the below-given string.\n",
    "string = \"I want to become a data scientist\" \"\"\"\n",
    "\n",
    "s=\"I want to become a data scientist\"\n",
    "c=0\n",
    "for i in s:\n",
    "    a=i.lower()\n",
    "    if(a=='a'or a=='e'or a=='i'or a=='o'or a=='u'):\n",
    "     c=c+1\n",
    "print(\"count =\",c)"
   ]
  },
  {
   "cell_type": "code",
   "execution_count": null,
   "id": "114b9bf1-b7c3-4c8a-a36a-b74674207a21",
   "metadata": {},
   "outputs": [],
   "source": []
  }
 ],
 "metadata": {
  "kernelspec": {
   "display_name": "Python 3 (ipykernel)",
   "language": "python",
   "name": "python3"
  },
  "language_info": {
   "codemirror_mode": {
    "name": "ipython",
    "version": 3
   },
   "file_extension": ".py",
   "mimetype": "text/x-python",
   "name": "python",
   "nbconvert_exporter": "python",
   "pygments_lexer": "ipython3",
   "version": "3.10.8"
  }
 },
 "nbformat": 4,
 "nbformat_minor": 5
}
