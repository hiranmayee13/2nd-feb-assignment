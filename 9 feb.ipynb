{
 "cells": [
  {
   "cell_type": "code",
   "execution_count": 2,
   "id": "f61c221d-431c-4634-9643-312675990e34",
   "metadata": {},
   "outputs": [
    {
     "data": {
      "text/plain": [
       "('AUDI', 350, '17.84 kmpl')"
      ]
     },
     "execution_count": 2,
     "metadata": {},
     "output_type": "execute_result"
    }
   ],
   "source": [
    "\"\"\"Q1. Create a vehicle class with an init method having instance variables as name_of_vehicle, max_speed\n",
    "        and average_of_vehicle.\"\"\"\n",
    "\n",
    "class vehical:\n",
    "    def __init__(self,name_of_vehicle,max_speed,average_of_vehicle):\n",
    "        self.name_of_vehicle=name_of_vehicle\n",
    "        self.max_speed=max_speed\n",
    "        self.average_of_vehicle=average_of_vehicle\n",
    "    def detials(self):\n",
    "        return self.name_of_vehicle,self.max_speed,self.average_of_vehicle\n",
    "Tilak=vehical(\"AUDI\",350,\"17.84 kmpl\")\n",
    "Tilak.detials()"
   ]
  },
  {
   "cell_type": "code",
   "execution_count": 4,
   "id": "d628dfaa-5ddf-4e11-9ae7-21a4b54af71f",
   "metadata": {},
   "outputs": [
    {
     "data": {
      "text/plain": [
       "('B_M_W', 6)"
      ]
     },
     "execution_count": 4,
     "metadata": {},
     "output_type": "execute_result"
    }
   ],
   "source": [
    "\"\"\"Q2. Create a child class car from the vehicle class created in Que 1, which will inherit the vehicle class.\n",
    "        Create a method named seating_capacity which takes capacity as an argument and returns the name of\n",
    "        the vehicle and its seating capacity.\"\"\"\n",
    "\n",
    "class vehicle:\n",
    "    def __init__(self,name):\n",
    "        self.name=name\n",
    "        \n",
    "    def seating_capacity(self,capacity):\n",
    "        return self.name,capacity\n",
    "    \n",
    "class car(vehicle):\n",
    "    def seating_capacity(self,capacity):\n",
    "        return self.name,capacity\n",
    "car(\"B_M_W\").seating_capacity(6)"
   ]
  },
  {
   "cell_type": "code",
   "execution_count": 5,
   "id": "cda004db-55b5-4b2a-ba6c-c2c179c20c27",
   "metadata": {},
   "outputs": [
    {
     "name": "stdout",
     "output_type": "stream",
     "text": [
      "present Base-1\n",
      "present Base-2\n",
      "present Base-3\n"
     ]
    }
   ],
   "source": [
    "\"\"\"Q3. What is multiple inheritance? Write a python code to demonstrate multiple inheritance.\"\"\"\n",
    "\n",
    "# When a class is derived from more than one base class it is called multiple Inheritance.\n",
    "# The derived class inherits all the features of the base case.\n",
    "\n",
    "class Base_1:\n",
    "    def method1(self):\n",
    "        print(\"present Base-1\")\n",
    "class Base_2(Base_1):\n",
    "    def method2(self):\n",
    "        print(\"present Base-2\")\n",
    "class Base_3(Base_2):\n",
    "    def method3(self):\n",
    "        print(\"present Base-3\")\n",
    "        \n",
    "obj=Base_3()\n",
    "obj.method1()\n",
    "obj.method2()\n",
    "obj.method3()"
   ]
  },
  {
   "cell_type": "code",
   "execution_count": 6,
   "id": "8ec20c83-4039-485a-9e91-0e8a85a65098",
   "metadata": {},
   "outputs": [
    {
     "data": {
      "text/plain": [
       "3500"
      ]
     },
     "execution_count": 6,
     "metadata": {},
     "output_type": "execute_result"
    }
   ],
   "source": [
    "\"\"\"Q4. What are getter and setter in python? Create a class and create a getter and a setter method in this\n",
    "        class.\"\"\"\n",
    "\n",
    "# Getter: A method that allows you to access an attribute in a given class.\n",
    "# Setter: A method that allows you to set or mutate the value of an attribute in a class.\n",
    "\n",
    "class PWSkills:\n",
    "    def __init__(self,course_name,course_price):\n",
    "        self.course_name=course_name\n",
    "        self.__course_price=course_price\n",
    "    @property\n",
    "    def cource_price_access(self):\n",
    "        return self.__course_price\n",
    "    @cource_price_access.setter\n",
    "    def course_price_set(self,price):\n",
    "        if price <= 3500:\n",
    "            pass\n",
    "        else:\n",
    "            self.__course_price=price\n",
    "            \n",
    "pwians=PWSkills(\"Data Scientist\",3500)\n",
    "pwians._PWSkills__course_price"
   ]
  },
  {
   "cell_type": "code",
   "execution_count": 8,
   "id": "44dbed27-271f-47fe-b99b-7212eaf4b68c",
   "metadata": {},
   "outputs": [
    {
     "data": {
      "text/plain": [
       "4500"
      ]
     },
     "execution_count": 8,
     "metadata": {},
     "output_type": "execute_result"
    }
   ],
   "source": [
    "\n",
    "pwians.course_price_set=4500\n",
    "pwians.cource_price_access"
   ]
  },
  {
   "cell_type": "code",
   "execution_count": 9,
   "id": "9b22ec67-8aa7-4639-8b61-3473a4a6a33f",
   "metadata": {},
   "outputs": [
    {
     "name": "stdout",
     "output_type": "stream",
     "text": [
      "child class - Lion\n",
      "parent class - Lion\n"
     ]
    }
   ],
   "source": [
    "\"\"\"Q5.What is method overriding in python? Write a python code to demonstrate method overriding.\"\"\"\n",
    "\n",
    "# when you have two methods with the same name that each perform different tasks.\n",
    "# In method overriding, the child class can change its functions that are defined by its ancestral classes.\n",
    "\n",
    "class Animal:\n",
    "    def lion(self):\n",
    "        print(\"parent class - Lion\")\n",
    "\n",
    "class Wild_animal(Animal):\n",
    "    def lion(self):\n",
    "        print(\"child class - Lion\")\n",
    "        \n",
    "r=Wild_animal()\n",
    "r.lion()\n",
    "\n",
    "r=Animal()\n",
    "r.lion()\n"
   ]
  },
  {
   "cell_type": "code",
   "execution_count": null,
   "id": "077fab4e-bee3-4ec7-b6c4-17cd732eac3c",
   "metadata": {},
   "outputs": [],
   "source": []
  }
 ],
 "metadata": {
  "kernelspec": {
   "display_name": "Python 3 (ipykernel)",
   "language": "python",
   "name": "python3"
  },
  "language_info": {
   "codemirror_mode": {
    "name": "ipython",
    "version": 3
   },
   "file_extension": ".py",
   "mimetype": "text/x-python",
   "name": "python",
   "nbconvert_exporter": "python",
   "pygments_lexer": "ipython3",
   "version": "3.10.8"
  }
 },
 "nbformat": 4,
 "nbformat_minor": 5
}
