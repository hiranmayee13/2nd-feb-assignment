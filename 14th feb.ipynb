{
 "cells": [
  {
   "cell_type": "code",
   "execution_count": 4,
   "id": "f66ecc24-d350-4067-90d6-aa30ac446e4b",
   "metadata": {},
   "outputs": [
    {
     "data": {
      "text/plain": [
       "'Multithreading in Python refers to the ability of a program to concurrently execute multiple threads within the same process. \\nIn Python, multithreading is primarily used to perform tasks in parallel and to handle I/O-bound operations, where multiple threads can run concurrently while waiting for I/O operations to complete. It allows for better utilization of resources, such as multiple CPU cores, and can improve the overall performance of a program, especially when dealing with tasks that involve waiting for external resources, like network requests or file I/O.\\nthreading moduke used to handle threads in python'"
      ]
     },
     "execution_count": 4,
     "metadata": {},
     "output_type": "execute_result"
    }
   ],
   "source": [
    "#1)what is multithreading in python?why is it used? Name the module used to handle threads in python\n",
    "\"\"\"Multithreading in Python refers to the ability of a program to concurrently execute multiple threads within the same process. \n",
    "In Python, multithreading is primarily used to perform tasks in parallel and to handle I/O-bound operations, where multiple threads can run concurrently while waiting for I/O operations to complete. It allows for better utilization of resources, such as multiple CPU cores, and can improve the overall performance of a program, especially when dealing with tasks that involve waiting for external resources, like network requests or file I/O.\n",
    "threading moduke used to handle threads in python\"\"\""
   ]
  },
  {
   "cell_type": "code",
   "execution_count": null,
   "id": "7208bcd9-6002-469b-95ea-b970a9dff43f",
   "metadata": {},
   "outputs": [],
   "source": [
    "#2)why threading module used? write the use of the following functions\n",
    "\"\"\"threading module is used to introduce concurrency, improve responsiveness, handle I/O-bound operations, synchronize thread activities, and enable parallelism in Python programs.\"\"\"\n",
    "\n",
    "# activeCount()\n",
    "\"\"\"It returns the number of currently active Thread objects in the current thread's ThreadGroup. The active count includes both daemon and non-daemon threads.\"\"\"\n",
    "#currentThread()\n",
    "\"\"\". It returns the current Thread object corresponding to the calling thread.\"\"\"\n",
    "#enumerate()\n",
    "\"\"\"The enumerate() function is a built-in function in Python that is used to iterate over a sequence (such as a list, tuple, or string) while keeping track of the index of each element. It returns an iterator object that yields tuples containing the index and value of each element.\"\"\""
   ]
  },
  {
   "cell_type": "code",
   "execution_count": null,
   "id": "351717db-6394-4be9-96e7-15cf351fe113",
   "metadata": {},
   "outputs": [],
   "source": [
    "\"\"\"Q3. Explain the following functions\n",
    "* run()\n",
    "* start()\n",
    "* join()\n",
    "* isAlive() \"\"\"\n",
    "\n",
    "Ans.\n",
    "     run(): method executes any target function belonging to a given thread object that is now active.\n",
    "    start(): method is used to initiate the activity of a thread. \n",
    "             And it calls only once for each thread so that the execution of the thread can begin.\n",
    "    join(): method delays a program's flow of execution until the target thread has been completely read.\n",
    "    isAlive(): it is used to check whether that thread is alive or not, ie, it is still running or not. \n",
    "                This method returns True before the run() starts until just after the run() method is executed."
   ]
  },
  {
   "cell_type": "code",
   "execution_count": 20,
   "id": "b0f97a4d-54fe-464e-ab3d-6c35cc10bd21",
   "metadata": {},
   "outputs": [
    {
     "name": "stdout",
     "output_type": "stream",
     "text": [
      "square of 1 = 1\n",
      "square of 2 = 4\n",
      "square of 3 = 9\n",
      "square of 4 = 16\n",
      "square of 5 = 25\n",
      "square of 6 = 36\n",
      "square of 7 = 49\n",
      "square of 8 = 64\n",
      "square of 9 = 81\n",
      "square of 10 = 100\n",
      "square of 1 = 1\n",
      "square of 2 = 8\n",
      "square of 3 = 27\n",
      "square of 4 = 64\n",
      "square of 5 = 125\n",
      "square of 6 = 216\n",
      "square of 7 = 343\n",
      "square of 8 = 512\n",
      "square of 9 = 729\n",
      "square of 10 = 1000\n"
     ]
    }
   ],
   "source": [
    "\"\"\" Q4. Write a python program to create two threads. Thread one must print the list of squares and thread\n",
    "        two must print the list of cubes ? \"\"\"\n",
    "import threading\n",
    "def squares():\n",
    "    for i in range(1,11):\n",
    "        print(\"square of %d = %d\" %(i,i*i))\n",
    "def cubes():\n",
    "    for i in range(1,11):\n",
    "        print(\"square of %d = %d\" %(i,i*i*i))\n",
    "thread1=threading.Thread(target=squares)\n",
    "thread2=threading.Thread(target=cubes)\n",
    "thread1.start()\n",
    "thread2.start()\n",
    "thread1.join()\n",
    "thread2.join()"
   ]
  },
  {
   "cell_type": "code",
   "execution_count": null,
   "id": "6836dd8c-cf3d-473e-84fc-29eb7c0dcee4",
   "metadata": {},
   "outputs": [],
   "source": [
    "#Q5. State advantages and disadvantages of multithreading ? \n",
    "\n",
    "Ans.\n",
    "\"\"\"Advantages of Multithreading:\n",
    "   i.Resource Sharing: All the threads of a process share its resources such as memory, data, files etc.\n",
    "                    A single application can have different threads within the same address space using resource sharing.\n",
    "  ii.Responsiveness: Program responsiveness allows a program to run even if part of it is blocked using multithreading. \n",
    "                     This can also be done if the process is performing a lengthy operation. \n",
    "  iii.Utilization of Multiprocessor Architecture: In a multiprocessor architecture, each thread can run on a different \n",
    "                    processor in parallel using multithreading. This increases concurrency of the system. \n",
    "                    This is in direct contrast to a single processor system, \n",
    "                    where only one process or thread can run on a processor at a time.\n",
    "  iv.Economy: It is more economical to use threads as they share the process resources. Comparatively, \n",
    "                it is more expensive and time-consuming to create processes as they require more memory and resources.\n",
    "                The overhead for process creation and management is much higher than thread creation and management. \n",
    "    \n",
    "Disadvantages of Multithreading:\n",
    "    i. It needs more careful synchronization.\n",
    "   ii. It can consume a large space of stocks of blocked threads.\n",
    "  iii. It needs support for thread or process.\n",
    "   iv. If a parent process has several threads for proper process functioning, \n",
    "        the child processes should also be multithreaded because they may be required.\n",
    "    v. It imposes context switching overhead.\"\"\""
   ]
  },
  {
   "cell_type": "code",
   "execution_count": null,
   "id": "c0cc30d6-b7f3-42ba-b7d7-46283aa14458",
   "metadata": {},
   "outputs": [],
   "source": [
    "#Q6. Explain deadlocks and race conditions\n",
    "\"\"\"\n",
    "Ans\n",
    "A deadlock occurs in a concurrent system when two or more threads or processes are unable to proceed because each is waiting for a resource that another thread or process holds. In other words, it is a situation where two or more threads are indefinitely blocked because they are each holding a resource and waiting for another resource that is held by another thread.\n",
    "Race Conditions: Race conditions occur when multiple threads access and modify shared resources concurrently, leading to unpredictable results due to the lack of proper synchronization.\n",
    "\"\"\"\n"
   ]
  }
 ],
 "metadata": {
  "kernelspec": {
   "display_name": "Python 3 (ipykernel)",
   "language": "python",
   "name": "python3"
  },
  "language_info": {
   "codemirror_mode": {
    "name": "ipython",
    "version": 3
   },
   "file_extension": ".py",
   "mimetype": "text/x-python",
   "name": "python",
   "nbconvert_exporter": "python",
   "pygments_lexer": "ipython3",
   "version": "3.10.8"
  }
 },
 "nbformat": 4,
 "nbformat_minor": 5
}
