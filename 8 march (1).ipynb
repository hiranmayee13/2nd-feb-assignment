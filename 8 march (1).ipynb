{
 "cells": [
  {
   "cell_type": "code",
   "execution_count": null,
   "id": "f7f5f447-c1fa-4d45-b9b0-3f52ec17f405",
   "metadata": {},
   "outputs": [],
   "source": [
    "'''Q1. What is the Probability density function?'''\n",
    "\n",
    "Ans.\n",
    "    In probability theory and statistics, the probability density function (PDF) is a function that describes the probability\n",
    "    distribution of a continuous random variable. It specifies the likelihood of the random variable taking on a specific value \n",
    "    or falling within a certain range of values.\n",
    "    \n",
    "    The PDF is typically denoted as f(x), where x represents the value of the random variable. The PDF is non-negative for all\n",
    "    values of x, and the total area under the PDF curve over its entire range is equal to 1.\n",
    "    \n",
    "    The PDF is used to calculate the probability that a random variable falls within a certain range of values, by integrating\n",
    "    the PDF over that range. The area under the PDF curve represents the total probability of all possible values of the random\n",
    "    variable."
   ]
  },
  {
   "cell_type": "code",
   "execution_count": null,
   "id": "3df6b253-b7da-4466-8dd5-f0a21f7d71af",
   "metadata": {},
   "outputs": [],
   "source": [
    "'''Q2. What are the types of Probability distribution?'''\n",
    "\n",
    "Ans.\n",
    "    Normal distribution:\n",
    "        Also known as the Gaussian distribution, it is one of the most important distributions in statistics.\n",
    "        It is often used to model natural phenomena such as the heights and weights of a population, and \n",
    "        it is characterized by a bell-shaped curve.\n",
    "        \n",
    "    Binomial distribution:\n",
    "        This distribution describes the number of successes in a fixed number of independent trials, where each trial has \n",
    "        the same probability of success. It is often used in experiments where there are only two possible outcomes,\n",
    "        such as coin flips or medical treatments. \n",
    "        \n",
    "    Poisson distribution: \n",
    "        This distribution describes the number of occurrences of a rare event within a fixed time or space.It is often used\n",
    "        in modeling the number of customers arriving at a store or the number of defects in a manufacturing process.\n",
    "\n",
    "    Bernoulli distribution:\n",
    "        it is a discrete probability distribution that models a binary or categorical outcome with only two possible values,\n",
    "        typically labeled as \"success\" and \"failure.\" It is named after Jacob Bernoulli, a Swiss mathematician.\n",
    "        \n",
    "    Uniform distribution:\n",
    "        This distribution describes a random variable that is equally likely to take on any value within a certain range.\n",
    "        It is often used in simulation models or in random number generation."
   ]
  },
  {
   "cell_type": "code",
   "execution_count": 1,
   "id": "ab72b4b1-d4cc-4b37-8df6-f133014173d8",
   "metadata": {},
   "outputs": [
    {
     "name": "stdin",
     "output_type": "stream",
     "text": [
      "Enter value of X :  4\n",
      "Enter value of mean :  2\n",
      "Enter value of stanard deviation :  5\n"
     ]
    },
    {
     "name": "stdout",
     "output_type": "stream",
     "text": [
      "probability density function of 4.0 : 0.07365402806066468\n"
     ]
    }
   ],
   "source": [
    "'''Q3. Write a Python function to calculate the probability density function of a normal distribution with\n",
    "given mean and standard deviation at a given point.'''\n",
    "\n",
    "\n",
    "import math\n",
    "def pdf_fun(x, mean, std):\n",
    "    exponent = -((x - mean) ** 2) / (2 * std ** 2)\n",
    "    coefficient = 1 / (std * math.sqrt(2 * math.pi))\n",
    "    pdf = coefficient * math.exp(exponent)\n",
    "    return pdf\n",
    "\n",
    "x = float(input(\"Enter value of X : \"))\n",
    "mean = float(input(\"Enter value of mean : \"))\n",
    "std = float(input(\"Enter value of stanard deviation : \"))\n",
    "\n",
    "pdf = pdf_fun(x,mean,std)\n",
    "print(f'probability density function of {x} : {pdf}')"
   ]
  },
  {
   "cell_type": "code",
   "execution_count": null,
   "id": "8b056fd0-9268-4263-8a91-4f945f52dce7",
   "metadata": {},
   "outputs": [],
   "source": [
    "'''Q4. What are the properties of Binomial distribution? Give two examples of events where binomial\n",
    "distribution can be applied.'''\n",
    "\n",
    "Ans.\n",
    "    Properties:\n",
    "1. Discrete distribution:\n",
    "    The binomial distribution is a discrete probability distribution, meaning it is defined for whole numbers only.\n",
    "2. Two possible outcomes:\n",
    "    Each trial in the binomial distribution has only two possible outcomes, often referred to as \"success\" and \"failure.\"\n",
    "3. Fixed number of trials:\n",
    "    The binomial distribution models a fixed number, denoted as n, of independent and identical trials or experiments.\n",
    "4. Independent trials:\n",
    "    The outcomes of each trial are assumed to be independent of each other\n",
    "    \n",
    " Example:\n",
    " @ Coin Flips: Consider flipping a fair coin multiple times. Each flip can be considered as a trial, and the outcome of each \n",
    "    flip is either a \"heads\" or \"tails.\" The binomial distribution can be used to model the number of heads obtained in a\n",
    "    fixed number of coin flips, assuming the coin is fair.\n",
    "    \n",
    " @ Survey Responses: Suppose you conduct a survey with a yes-or-no question. Each person surveyed can be considered a trial,\n",
    "    and their response is either a \"yes\" or a \"no.\" The binomial distribution can be used to model the number of \"yes\" \n",
    "    responses in a fixed number of survey participants, assuming the probability of a \"yes\" response remains constant."
   ]
  },
  {
   "cell_type": "code",
   "execution_count": 8,
   "id": "efe8d43c-d526-403f-b78e-9a35d86c25e3",
   "metadata": {},
   "outputs": [
    {
     "data": {
      "image/png": "[encoded data removed]",
      "text/plain": [
       "<Figure size 640x480 with 1 Axes>"
      ]
     },
     "metadata": {},
     "output_type": "display_data"
    }
   ],
   "source": [
    "\"\"\"Q5. Generate a random sample of size 1000 from a binomial distribution with probability of success 0.4\n",
    "    and plot a histogram of the results using matplotlib.\"\"\"\n",
    "\n",
    "import numpy as np\n",
    "import matplotlib.pyplot as plt\n",
    "\n",
    "# Set the parameters\n",
    "n = 1000  # Sample size\n",
    "p = 0.4  # Probability of success\n",
    "\n",
    "# Generate random sample from binomial distribution\n",
    "sample = np.random.binomial(n, p, size=1000)\n",
    "\n",
    "# Plot histogram\n",
    "plt.hist(sample, bins=30, alpha=1, color='skyblue')\n",
    "plt.xlabel('Number of Successes')\n",
    "plt.ylabel('Frequency')\n",
    "plt.title('Binomial Distribution (n=1000, p=0.4)')\n",
    "plt.grid(True)\n",
    "plt.show()"
   ]
  },
  {
   "cell_type": "code",
   "execution_count": 11,
   "id": "d1ae0939-162e-442f-ae67-36fc3ecd1f19",
   "metadata": {},
   "outputs": [
    {
     "name": "stdin",
     "output_type": "stream",
     "text": [
      "enter the no of events 5\n",
      "enter the value of x 2\n"
     ]
    },
    {
     "name": "stdout",
     "output_type": "stream",
     "text": [
      "cumulative distribution function = 0.08422433748856833\n"
     ]
    }
   ],
   "source": [
    "'''Q6. Write a Python function to calculate the cumulative distribution function of a Poisson distribution\n",
    "        with given mean at a given point.'''\n",
    "import math\n",
    "l=int(input(\"enter the no of events\"))\n",
    "x=int(input(\"enter the value of x\"))\n",
    "def cum_d(l,x):\n",
    "    num=math.exp(-l)*math.pow(l,x)\n",
    "    dem=math.factorial(x)\n",
    "    return num/dem\n",
    "print(\"cumulative distribution function =\",cum_d(l,x))\n"
   ]
  },
  {
   "cell_type": "code",
   "execution_count": null,
   "id": "54865a2e-c5e2-4b52-aed1-5ecdab7d25a5",
   "metadata": {},
   "outputs": [],
   "source": [
    "'''Q7. How Binomial distribution different from Poisson distribution?'''\n",
    "\n",
    "Ans.\n",
    "Binomial Distribution:\n",
    "    The binomial distribution is used when we have a fixed number of independent trials, each with two possible outcomes\n",
    "    (success or failure).\n",
    "    It answers questions like \"What is the probability of getting a specific number of successes in a fixed number of trials?\"\n",
    "    The probability of success remains constant for each trial.\n",
    "    \n",
    "Poisson Distribution: \n",
    "    The Poisson distribution is used to model the number of rare events occurring randomly over time or space.\n",
    "    It represents the probability of a certain number of events happening within a given interval. \n",
    "    It does not involve a fixed number of trials; instead, it focuses on the average rate of events occurring.\n",
    "\n",
    "\n",
    "    The binomial distribution deals with a fixed number of trials with two possible outcomes and a constant probability\n",
    "    of success. The Poisson distribution, on the other hand, focuses on the occurrence of rare events over time or space, \n",
    "    without a fixed number of trials, based on an average rate of events."
   ]
  },
  {
   "cell_type": "code",
   "execution_count": 1,
   "id": "5763edd5-ed54-4654-856c-1628a1d4878a",
   "metadata": {},
   "outputs": [
    {
     "name": "stdout",
     "output_type": "stream",
     "text": [
      "Sample mean is : 4.994\n",
      "Sample varience is : 5.315964\n"
     ]
    }
   ],
   "source": [
    "'''Q8. Generate a random sample of size 1000 from a Poisson distribution with mean 5 and calculate the\n",
    "        sample mean and variance.'''\n",
    "\n",
    "\n",
    "import numpy as np\n",
    "\n",
    "num = np.random.poisson(lam= 5, size =1000)\n",
    "mean = np.mean(num)\n",
    "varience = np.var(num)\n",
    "print('Sample mean is :',mean)\n",
    "print('Sample varience is :',varience)"
   ]
  },
  {
   "cell_type": "code",
   "execution_count": null,
   "id": "d68e4e73-a573-4f18-90c1-9a9a1ff32ab4",
   "metadata": {},
   "outputs": [],
   "source": [
    "'''Q9. How mean and variance are related in Binomial distribution and Poisson distribution?'''\n",
    "\n",
    "Ans.\n",
    "Binomial Distribution:   \n",
    "    In the binomial distribution, the mean (or expected value) and variance are related as follows:\n",
    "        Mean = np\n",
    "        Variance = np(1-p)\n",
    "    Where n is the number of trials, p is the probability of success in each trial, np is the expected number of successes,\n",
    "    and np(1-p) is the variance.\n",
    "    \n",
    "Poission Distribution:\n",
    "    In the Poisson distribution, the mean (or expected value) and variance are related as follows:\n",
    "        Mean = Variance = λ\n",
    "    where λ is the average number of rare events in the interval."
   ]
  },
  {
   "cell_type": "code",
   "execution_count": null,
   "id": "8cc2bc9a-7ab2-486d-b572-5fae6955c760",
   "metadata": {},
   "outputs": [],
   "source": [
    "'''Q10. In normal distribution with respect to mean position, where does the least frequent data appear?'''\n",
    "\n",
    "Ans.\n",
    "    In a normal distribution, the least frequent data appear in the tails of the distribution, which are the regions that \n",
    "    are farthest from the mean. The tails of a normal distribution represent the extreme values of the variable being measured,\n",
    "    which are less common than the values closer to the mean.\n",
    "    \n",
    "    For example, if we have a normal distribution with mean 0 and standard deviation 1, the least frequent data will appear\n",
    "    in the tails of the distribution, which are the regions beyond 3 standard deviations from the mean. This is because the \n",
    "    normal distribution is symmetric around the mean, and the probability density decreases rapidly as we move away from the \n",
    "    mean towards the tails of the distribution. The probability of observing a value in the tails of a normal distribution is\n",
    "    relatively low compared to the probability of observing a value closer to the mean."
   ]
  }
 ],
 "metadata": {
  "kernelspec": {
   "display_name": "Python 3 (ipykernel)",
   "language": "python",
   "name": "python3"
  },
  "language_info": {
   "codemirror_mode": {
    "name": "ipython",
    "version": 3
   },
   "file_extension": ".py",
   "mimetype": "text/x-python",
   "name": "python",
   "nbconvert_exporter": "python",
   "pygments_lexer": "ipython3",
   "version": "3.10.8"
  }
 },
 "nbformat": 4,
 "nbformat_minor": 5
}
