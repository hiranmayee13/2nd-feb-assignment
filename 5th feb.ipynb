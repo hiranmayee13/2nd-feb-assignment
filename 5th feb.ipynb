{
 "cells": [
  {
   "cell_type": "code",
   "execution_count": 1,
   "id": "665ab200-4fd2-464e-b7ad-7b7679623849",
   "metadata": {},
   "outputs": [
    {
     "data": {
      "text/plain": [
       "28.26"
      ]
     },
     "execution_count": 1,
     "metadata": {},
     "output_type": "execute_result"
    }
   ],
   "source": [
    "\"\"\"Q1. Explain Class and Object with respect to Object-Oriented Programming. Give a suitable example.\"\"\"\n",
    "#The class is a user-defined data structure that binds the data members and methods into a single unit. Class is a blueprint or code template for object creation. Using a class, you can create as many objects as you want.\n",
    "# An object is an instance of a class. It is a collection of attributes (variables) and methods. We use the object of a class to perform actions.\n",
    "class circle:\n",
    "    pi=3.14\n",
    "    def __init__(self,radius):\n",
    "        self.radius=radius\n",
    "    def area(self):\n",
    "        return circle.pi*self.radius**2\n",
    "obj=circle(3)\n",
    "obj.area()"
   ]
  },
  {
   "cell_type": "code",
   "execution_count": 3,
   "id": "e86c7d55-a9f6-420a-a100-8b10055e2c9f",
   "metadata": {},
   "outputs": [],
   "source": [
    "#Q2. Name the four pillars of OOPs.\n",
    "#data abstraction, encapsulation, inheritance, and polymorphism."
   ]
  },
  {
   "cell_type": "code",
   "execution_count": 10,
   "id": "83a0ea23-373c-43a8-896e-c38c5d08762b",
   "metadata": {},
   "outputs": [
    {
     "name": "stdout",
     "output_type": "stream",
     "text": [
      "hiran\n",
      "20\n"
     ]
    }
   ],
   "source": [
    "\"\"\"Q3. Explain why the __init__() function is used. Give a suitable example.\"\"\"\n",
    "#Use the __init__() function to assign values to object properties, or other operations that are necessary to do when the object is being created\n",
    "class student:\n",
    "    def __init__(self,name,age):\n",
    "        self.name=name\n",
    "        self.age=age\n",
    "obj=student(\"hiran\",20)\n",
    "print(obj.name)\n",
    "print(obj.age)"
   ]
  },
  {
   "cell_type": "code",
   "execution_count": 11,
   "id": "c4c8a008-6268-4c17-a48f-e3150d2eec5a",
   "metadata": {},
   "outputs": [
    {
     "data": {
      "text/plain": [
       "'Q4. Why self is used in OOPs?'"
      ]
     },
     "execution_count": 11,
     "metadata": {},
     "output_type": "execute_result"
    }
   ],
   "source": [
    "\"\"\"Q4. Why self is used in OOPs?\"\"\"\n",
    "#self represents the instance of the class. By using the “self”  we can access the attributes and methods of the class in python. It binds the attributes with the given arguments"
   ]
  },
  {
   "cell_type": "code",
   "execution_count": 13,
   "id": "083e8c3e-a10d-4287-a59b-1a3f97388f26",
   "metadata": {},
   "outputs": [
    {
     "data": {
      "text/plain": [
       "'this is test class1'"
      ]
     },
     "execution_count": 13,
     "metadata": {},
     "output_type": "execute_result"
    }
   ],
   "source": [
    "\"\"\"Q5. What is inheritance? Give an example for each type of inheritance.\"\"\"\n",
    "#Inheritance allows us to define a class that inherits all the methods and properties from another class.\n",
    "class class1:\n",
    "    def test_class1(self):\n",
    "        return \"this is test class1\"\n",
    "class class2(class1):\n",
    "    def test_class2(self):\n",
    "        return \" this is the test class2\"\n",
    "class class3(class2):\n",
    "    pass\n",
    "obj=class3()\n",
    "print(obj.test_class1())\n"
   ]
  },
  {
   "cell_type": "code",
   "execution_count": null,
   "id": "003d23d3-3781-47a7-9d6c-adc311779c26",
   "metadata": {},
   "outputs": [],
   "source": []
  }
 ],
 "metadata": {
  "kernelspec": {
   "display_name": "Python 3 (ipykernel)",
   "language": "python",
   "name": "python3"
  },
  "language_info": {
   "codemirror_mode": {
    "name": "ipython",
    "version": 3
   },
   "file_extension": ".py",
   "mimetype": "text/x-python",
   "name": "python",
   "nbconvert_exporter": "python",
   "pygments_lexer": "ipython3",
   "version": "3.10.8"
  }
 },
 "nbformat": 4,
 "nbformat_minor": 5
}
